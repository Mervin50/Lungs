{
  "cells": [
    {
      "cell_type": "markdown",
      "source": [
        "# Lung Cancer Data insights"
      ],
      "metadata": {
        "id": "l8xEL6-0hSnf"
      }
    },
    {
      "cell_type": "markdown",
      "source": [
        "## 1. Introduction :\n",
        "#### The aim of this project is to find the factors influencing cause of cancer. We are solving a Classification problem."
      ],
      "metadata": {
        "id": "QU-IlAWphaZK"
      }
    },
    {
      "cell_type": "markdown",
      "source": [
        "#### Preliminaries : Loading the packages required to setup environment for our analysis"
      ],
      "metadata": {
        "id": "or7ZHAGXhdro"
      }
    },
    {
      "cell_type": "code",
      "source": [
        "import numpy as np\n",
        "import pandas as pd\n",
        "import seaborn as sns\n",
        "import matplotlib.pyplot as plt\n",
        "from sklearn.preprocessing import LabelEncoder, StandardScaler\n",
        "from sklearn.model_selection import train_test_split\n",
        "from sklearn.linear_model import LogisticRegression\n",
        "from sklearn.tree import DecisionTreeClassifier\n",
        "from sklearn.ensemble import RandomForestClassifier\n",
        "from sklearn.svm import SVC\n",
        "from sklearn.metrics import accuracy_score\n",
        "from sklearn.metrics import precision_score, recall_score, f1_score\n",
        "from sklearn.metrics import confusion_matrix\n",
        "from tabulate import tabulate"
      ],
      "metadata": {
        "id": "O4KN8FZ7PVel"
      },
      "execution_count": 46,
      "outputs": []
    },
    {
      "cell_type": "markdown",
      "source": [
        "# 2. Description of our Dataset\n",
        "#### Loading our dataset to the dataframe. Then, we take look at the shape of our dataset and take a quick look at our dataset by printing first and last five rows."
      ],
      "metadata": {
        "id": "jD-HA2zajfNP"
      }
    },
    {
      "cell_type": "code",
      "source": [
        "# Loading our dataset in dataframe\n",
        "df = pd.read_csv(\"/content/lung_cancer.csv\")"
      ],
      "metadata": {
        "id": "3wzjERy6PVh5"
      },
      "execution_count": 47,
      "outputs": []
    },
    {
      "cell_type": "code",
      "source": [
        "# Shape of our dataset\n",
        "df.shape"
      ],
      "metadata": {
        "colab": {
          "base_uri": "https://localhost:8080/"
        },
        "id": "zWdNCxxbj9cf",
        "outputId": "77a1a8ae-5572-48fd-8696-93c09d8d3254"
      },
      "execution_count": 48,
      "outputs": [
        {
          "output_type": "execute_result",
          "data": {
            "text/plain": [
              "(61, 7)"
            ]
          },
          "metadata": {},
          "execution_count": 48
        }
      ]
    },
    {
      "cell_type": "code",
      "source": [
        "# Printing first 5 rows of our dataset\n",
        "df.head()"
      ],
      "metadata": {
        "colab": {
          "base_uri": "https://localhost:8080/",
          "height": 206
        },
        "id": "mS65K8hGPVk4",
        "outputId": "0334279d-8eb6-4296-ff30-e72690aabfef"
      },
      "execution_count": 49,
      "outputs": [
        {
          "output_type": "execute_result",
          "data": {
            "text/plain": [
              "     Name      Surname   Age  Smokes  AreaQ  Alkhol Result\n",
              "0    John         Wick  35.0     3.0      5     4.0    yes\n",
              "1    John  Constantine  27.0    20.0      2     5.0    yes\n",
              "2  Camela     Anderson  30.0     0.0      5     2.0     no\n",
              "3    Alex       Telles  28.0     0.0      8     1.0     no\n",
              "4   Diego     Maradona  68.0     4.0      5     6.0    yes"
            ],
            "text/html": [
              "\n",
              "  <div id=\"df-2636d842-c642-45fc-a063-bec383d045b9\" class=\"colab-df-container\">\n",
              "    <div>\n",
              "<style scoped>\n",
              "    .dataframe tbody tr th:only-of-type {\n",
              "        vertical-align: middle;\n",
              "    }\n",
              "\n",
              "    .dataframe tbody tr th {\n",
              "        vertical-align: top;\n",
              "    }\n",
              "\n",
              "    .dataframe thead th {\n",
              "        text-align: right;\n",
              "    }\n",
              "</style>\n",
              "<table border=\"1\" class=\"dataframe\">\n",
              "  <thead>\n",
              "    <tr style=\"text-align: right;\">\n",
              "      <th></th>\n",
              "      <th>Name</th>\n",
              "      <th>Surname</th>\n",
              "      <th>Age</th>\n",
              "      <th>Smokes</th>\n",
              "      <th>AreaQ</th>\n",
              "      <th>Alkhol</th>\n",
              "      <th>Result</th>\n",
              "    </tr>\n",
              "  </thead>\n",
              "  <tbody>\n",
              "    <tr>\n",
              "      <th>0</th>\n",
              "      <td>John</td>\n",
              "      <td>Wick</td>\n",
              "      <td>35.0</td>\n",
              "      <td>3.0</td>\n",
              "      <td>5</td>\n",
              "      <td>4.0</td>\n",
              "      <td>yes</td>\n",
              "    </tr>\n",
              "    <tr>\n",
              "      <th>1</th>\n",
              "      <td>John</td>\n",
              "      <td>Constantine</td>\n",
              "      <td>27.0</td>\n",
              "      <td>20.0</td>\n",
              "      <td>2</td>\n",
              "      <td>5.0</td>\n",
              "      <td>yes</td>\n",
              "    </tr>\n",
              "    <tr>\n",
              "      <th>2</th>\n",
              "      <td>Camela</td>\n",
              "      <td>Anderson</td>\n",
              "      <td>30.0</td>\n",
              "      <td>0.0</td>\n",
              "      <td>5</td>\n",
              "      <td>2.0</td>\n",
              "      <td>no</td>\n",
              "    </tr>\n",
              "    <tr>\n",
              "      <th>3</th>\n",
              "      <td>Alex</td>\n",
              "      <td>Telles</td>\n",
              "      <td>28.0</td>\n",
              "      <td>0.0</td>\n",
              "      <td>8</td>\n",
              "      <td>1.0</td>\n",
              "      <td>no</td>\n",
              "    </tr>\n",
              "    <tr>\n",
              "      <th>4</th>\n",
              "      <td>Diego</td>\n",
              "      <td>Maradona</td>\n",
              "      <td>68.0</td>\n",
              "      <td>4.0</td>\n",
              "      <td>5</td>\n",
              "      <td>6.0</td>\n",
              "      <td>yes</td>\n",
              "    </tr>\n",
              "  </tbody>\n",
              "</table>\n",
              "</div>\n",
              "    <div class=\"colab-df-buttons\">\n",
              "\n",
              "  <div class=\"colab-df-container\">\n",
              "    <button class=\"colab-df-convert\" onclick=\"convertToInteractive('df-2636d842-c642-45fc-a063-bec383d045b9')\"\n",
              "            title=\"Convert this dataframe to an interactive table.\"\n",
              "            style=\"display:none;\">\n",
              "\n",
              "  <svg xmlns=\"http://www.w3.org/2000/svg\" height=\"24px\" viewBox=\"0 -960 960 960\">\n",
              "    <path d=\"M120-120v-720h720v720H120Zm60-500h600v-160H180v160Zm220 220h160v-160H400v160Zm0 220h160v-160H400v160ZM180-400h160v-160H180v160Zm440 0h160v-160H620v160ZM180-180h160v-160H180v160Zm440 0h160v-160H620v160Z\"/>\n",
              "  </svg>\n",
              "    </button>\n",
              "\n",
              "  <style>\n",
              "    .colab-df-container {\n",
              "      display:flex;\n",
              "      gap: 12px;\n",
              "    }\n",
              "\n",
              "    .colab-df-convert {\n",
              "      background-color: #E8F0FE;\n",
              "      border: none;\n",
              "      border-radius: 50%;\n",
              "      cursor: pointer;\n",
              "      display: none;\n",
              "      fill: #1967D2;\n",
              "      height: 32px;\n",
              "      padding: 0 0 0 0;\n",
              "      width: 32px;\n",
              "    }\n",
              "\n",
              "    .colab-df-convert:hover {\n",
              "      background-color: #E2EBFA;\n",
              "      box-shadow: 0px 1px 2px rgba(60, 64, 67, 0.3), 0px 1px 3px 1px rgba(60, 64, 67, 0.15);\n",
              "      fill: #174EA6;\n",
              "    }\n",
              "\n",
              "    .colab-df-buttons div {\n",
              "      margin-bottom: 4px;\n",
              "    }\n",
              "\n",
              "    [theme=dark] .colab-df-convert {\n",
              "      background-color: #3B4455;\n",
              "      fill: #D2E3FC;\n",
              "    }\n",
              "\n",
              "    [theme=dark] .colab-df-convert:hover {\n",
              "      background-color: #434B5C;\n",
              "      box-shadow: 0px 1px 3px 1px rgba(0, 0, 0, 0.15);\n",
              "      filter: drop-shadow(0px 1px 2px rgba(0, 0, 0, 0.3));\n",
              "      fill: #FFFFFF;\n",
              "    }\n",
              "  </style>\n",
              "\n",
              "    <script>\n",
              "      const buttonEl =\n",
              "        document.querySelector('#df-2636d842-c642-45fc-a063-bec383d045b9 button.colab-df-convert');\n",
              "      buttonEl.style.display =\n",
              "        google.colab.kernel.accessAllowed ? 'block' : 'none';\n",
              "\n",
              "      async function convertToInteractive(key) {\n",
              "        const element = document.querySelector('#df-2636d842-c642-45fc-a063-bec383d045b9');\n",
              "        const dataTable =\n",
              "          await google.colab.kernel.invokeFunction('convertToInteractive',\n",
              "                                                    [key], {});\n",
              "        if (!dataTable) return;\n",
              "\n",
              "        const docLinkHtml = 'Like what you see? Visit the ' +\n",
              "          '<a target=\"_blank\" href=https://colab.research.google.com/notebooks/data_table.ipynb>data table notebook</a>'\n",
              "          + ' to learn more about interactive tables.';\n",
              "        element.innerHTML = '';\n",
              "        dataTable['output_type'] = 'display_data';\n",
              "        await google.colab.output.renderOutput(dataTable, element);\n",
              "        const docLink = document.createElement('div');\n",
              "        docLink.innerHTML = docLinkHtml;\n",
              "        element.appendChild(docLink);\n",
              "      }\n",
              "    </script>\n",
              "  </div>\n",
              "\n",
              "\n",
              "<div id=\"df-a7742c4c-2e6b-49b0-b762-ff427d2167a6\">\n",
              "  <button class=\"colab-df-quickchart\" onclick=\"quickchart('df-a7742c4c-2e6b-49b0-b762-ff427d2167a6')\"\n",
              "            title=\"Suggest charts\"\n",
              "            style=\"display:none;\">\n",
              "\n",
              "<svg xmlns=\"http://www.w3.org/2000/svg\" height=\"24px\"viewBox=\"0 0 24 24\"\n",
              "     width=\"24px\">\n",
              "    <g>\n",
              "        <path d=\"M19 3H5c-1.1 0-2 .9-2 2v14c0 1.1.9 2 2 2h14c1.1 0 2-.9 2-2V5c0-1.1-.9-2-2-2zM9 17H7v-7h2v7zm4 0h-2V7h2v10zm4 0h-2v-4h2v4z\"/>\n",
              "    </g>\n",
              "</svg>\n",
              "  </button>\n",
              "\n",
              "<style>\n",
              "  .colab-df-quickchart {\n",
              "      --bg-color: #E8F0FE;\n",
              "      --fill-color: #1967D2;\n",
              "      --hover-bg-color: #E2EBFA;\n",
              "      --hover-fill-color: #174EA6;\n",
              "      --disabled-fill-color: #AAA;\n",
              "      --disabled-bg-color: #DDD;\n",
              "  }\n",
              "\n",
              "  [theme=dark] .colab-df-quickchart {\n",
              "      --bg-color: #3B4455;\n",
              "      --fill-color: #D2E3FC;\n",
              "      --hover-bg-color: #434B5C;\n",
              "      --hover-fill-color: #FFFFFF;\n",
              "      --disabled-bg-color: #3B4455;\n",
              "      --disabled-fill-color: #666;\n",
              "  }\n",
              "\n",
              "  .colab-df-quickchart {\n",
              "    background-color: var(--bg-color);\n",
              "    border: none;\n",
              "    border-radius: 50%;\n",
              "    cursor: pointer;\n",
              "    display: none;\n",
              "    fill: var(--fill-color);\n",
              "    height: 32px;\n",
              "    padding: 0;\n",
              "    width: 32px;\n",
              "  }\n",
              "\n",
              "  .colab-df-quickchart:hover {\n",
              "    background-color: var(--hover-bg-color);\n",
              "    box-shadow: 0 1px 2px rgba(60, 64, 67, 0.3), 0 1px 3px 1px rgba(60, 64, 67, 0.15);\n",
              "    fill: var(--button-hover-fill-color);\n",
              "  }\n",
              "\n",
              "  .colab-df-quickchart-complete:disabled,\n",
              "  .colab-df-quickchart-complete:disabled:hover {\n",
              "    background-color: var(--disabled-bg-color);\n",
              "    fill: var(--disabled-fill-color);\n",
              "    box-shadow: none;\n",
              "  }\n",
              "\n",
              "  .colab-df-spinner {\n",
              "    border: 2px solid var(--fill-color);\n",
              "    border-color: transparent;\n",
              "    border-bottom-color: var(--fill-color);\n",
              "    animation:\n",
              "      spin 1s steps(1) infinite;\n",
              "  }\n",
              "\n",
              "  @keyframes spin {\n",
              "    0% {\n",
              "      border-color: transparent;\n",
              "      border-bottom-color: var(--fill-color);\n",
              "      border-left-color: var(--fill-color);\n",
              "    }\n",
              "    20% {\n",
              "      border-color: transparent;\n",
              "      border-left-color: var(--fill-color);\n",
              "      border-top-color: var(--fill-color);\n",
              "    }\n",
              "    30% {\n",
              "      border-color: transparent;\n",
              "      border-left-color: var(--fill-color);\n",
              "      border-top-color: var(--fill-color);\n",
              "      border-right-color: var(--fill-color);\n",
              "    }\n",
              "    40% {\n",
              "      border-color: transparent;\n",
              "      border-right-color: var(--fill-color);\n",
              "      border-top-color: var(--fill-color);\n",
              "    }\n",
              "    60% {\n",
              "      border-color: transparent;\n",
              "      border-right-color: var(--fill-color);\n",
              "    }\n",
              "    80% {\n",
              "      border-color: transparent;\n",
              "      border-right-color: var(--fill-color);\n",
              "      border-bottom-color: var(--fill-color);\n",
              "    }\n",
              "    90% {\n",
              "      border-color: transparent;\n",
              "      border-bottom-color: var(--fill-color);\n",
              "    }\n",
              "  }\n",
              "</style>\n",
              "\n",
              "  <script>\n",
              "    async function quickchart(key) {\n",
              "      const quickchartButtonEl =\n",
              "        document.querySelector('#' + key + ' button');\n",
              "      quickchartButtonEl.disabled = true;  // To prevent multiple clicks.\n",
              "      quickchartButtonEl.classList.add('colab-df-spinner');\n",
              "      try {\n",
              "        const charts = await google.colab.kernel.invokeFunction(\n",
              "            'suggestCharts', [key], {});\n",
              "      } catch (error) {\n",
              "        console.error('Error during call to suggestCharts:', error);\n",
              "      }\n",
              "      quickchartButtonEl.classList.remove('colab-df-spinner');\n",
              "      quickchartButtonEl.classList.add('colab-df-quickchart-complete');\n",
              "    }\n",
              "    (() => {\n",
              "      let quickchartButtonEl =\n",
              "        document.querySelector('#df-a7742c4c-2e6b-49b0-b762-ff427d2167a6 button');\n",
              "      quickchartButtonEl.style.display =\n",
              "        google.colab.kernel.accessAllowed ? 'block' : 'none';\n",
              "    })();\n",
              "  </script>\n",
              "</div>\n",
              "    </div>\n",
              "  </div>\n"
            ],
            "application/vnd.google.colaboratory.intrinsic+json": {
              "type": "dataframe",
              "variable_name": "df",
              "summary": "{\n  \"name\": \"df\",\n  \"rows\": 61,\n  \"fields\": [\n    {\n      \"column\": \"Name\",\n      \"properties\": {\n        \"dtype\": \"string\",\n        \"num_unique_values\": 51,\n        \"samples\": [\n          \"Nicole \",\n          \"Jessica \",\n          \"Ernest \"\n        ],\n        \"semantic_type\": \"\",\n        \"description\": \"\"\n      }\n    },\n    {\n      \"column\": \"Surname\",\n      \"properties\": {\n        \"dtype\": \"string\",\n        \"num_unique_values\": 50,\n        \"samples\": [\n          \"Wyman\",\n          \"Keaton\",\n          \"Lemmon\"\n        ],\n        \"semantic_type\": \"\",\n        \"description\": \"\"\n      }\n    },\n    {\n      \"column\": \"Age\",\n      \"properties\": {\n        \"dtype\": \"number\",\n        \"std\": 16.11977590232702,\n        \"min\": 18.0,\n        \"max\": 77.0,\n        \"num_unique_values\": 37,\n        \"samples\": [\n          73.0,\n          39.0,\n          68.0\n        ],\n        \"semantic_type\": \"\",\n        \"description\": \"\"\n      }\n    },\n    {\n      \"column\": \"Smokes\",\n      \"properties\": {\n        \"dtype\": \"number\",\n        \"std\": 7.984606756839539,\n        \"min\": 0.0,\n        \"max\": 34.0,\n        \"num_unique_values\": 16,\n        \"samples\": [\n          3.0,\n          20.0,\n          12.0\n        ],\n        \"semantic_type\": \"\",\n        \"description\": \"\"\n      }\n    },\n    {\n      \"column\": \"AreaQ\",\n      \"properties\": {\n        \"dtype\": \"number\",\n        \"std\": 2,\n        \"min\": 1,\n        \"max\": 10,\n        \"num_unique_values\": 10,\n        \"samples\": [\n          1,\n          2,\n          4\n        ],\n        \"semantic_type\": \"\",\n        \"description\": \"\"\n      }\n    },\n    {\n      \"column\": \"Alkhol\",\n      \"properties\": {\n        \"dtype\": \"number\",\n        \"std\": 2.380517062428241,\n        \"min\": 0.0,\n        \"max\": 8.0,\n        \"num_unique_values\": 9,\n        \"samples\": [\n          8.0,\n          5.0,\n          0.0\n        ],\n        \"semantic_type\": \"\",\n        \"description\": \"\"\n      }\n    },\n    {\n      \"column\": \"Result\",\n      \"properties\": {\n        \"dtype\": \"category\",\n        \"num_unique_values\": 2,\n        \"samples\": [\n          \"no\",\n          \"yes\"\n        ],\n        \"semantic_type\": \"\",\n        \"description\": \"\"\n      }\n    }\n  ]\n}"
            }
          },
          "metadata": {},
          "execution_count": 49
        }
      ]
    },
    {
      "cell_type": "code",
      "source": [
        "# Printing last 5 rows of our dataset\n",
        "df.tail()"
      ],
      "metadata": {
        "colab": {
          "base_uri": "https://localhost:8080/",
          "height": 206
        },
        "id": "rYFckVjbfuas",
        "outputId": "249ce063-be13-4340-d4e6-bbb8411f9214"
      },
      "execution_count": 50,
      "outputs": [
        {
          "output_type": "execute_result",
          "data": {
            "text/plain": [
              "         Name  Surname   Age  Smokes  AreaQ  Alkhol Result\n",
              "56  Charlton    Heston  75.0    15.0      3     5.0    yes\n",
              "57   Gregory      Peck  43.0    30.0      3     8.0    yes\n",
              "58    Sidney   Poitier  51.0    25.0      9     0.0     no\n",
              "59      Alice  Johnson  36.0     NaN      7     NaN    yes\n",
              "60        Bob    Smith   NaN     NaN      5     NaN     no"
            ],
            "text/html": [
              "\n",
              "  <div id=\"df-a3aea6f2-e430-4d85-9e20-6b6ef67c88d6\" class=\"colab-df-container\">\n",
              "    <div>\n",
              "<style scoped>\n",
              "    .dataframe tbody tr th:only-of-type {\n",
              "        vertical-align: middle;\n",
              "    }\n",
              "\n",
              "    .dataframe tbody tr th {\n",
              "        vertical-align: top;\n",
              "    }\n",
              "\n",
              "    .dataframe thead th {\n",
              "        text-align: right;\n",
              "    }\n",
              "</style>\n",
              "<table border=\"1\" class=\"dataframe\">\n",
              "  <thead>\n",
              "    <tr style=\"text-align: right;\">\n",
              "      <th></th>\n",
              "      <th>Name</th>\n",
              "      <th>Surname</th>\n",
              "      <th>Age</th>\n",
              "      <th>Smokes</th>\n",
              "      <th>AreaQ</th>\n",
              "      <th>Alkhol</th>\n",
              "      <th>Result</th>\n",
              "    </tr>\n",
              "  </thead>\n",
              "  <tbody>\n",
              "    <tr>\n",
              "      <th>56</th>\n",
              "      <td>Charlton</td>\n",
              "      <td>Heston</td>\n",
              "      <td>75.0</td>\n",
              "      <td>15.0</td>\n",
              "      <td>3</td>\n",
              "      <td>5.0</td>\n",
              "      <td>yes</td>\n",
              "    </tr>\n",
              "    <tr>\n",
              "      <th>57</th>\n",
              "      <td>Gregory</td>\n",
              "      <td>Peck</td>\n",
              "      <td>43.0</td>\n",
              "      <td>30.0</td>\n",
              "      <td>3</td>\n",
              "      <td>8.0</td>\n",
              "      <td>yes</td>\n",
              "    </tr>\n",
              "    <tr>\n",
              "      <th>58</th>\n",
              "      <td>Sidney</td>\n",
              "      <td>Poitier</td>\n",
              "      <td>51.0</td>\n",
              "      <td>25.0</td>\n",
              "      <td>9</td>\n",
              "      <td>0.0</td>\n",
              "      <td>no</td>\n",
              "    </tr>\n",
              "    <tr>\n",
              "      <th>59</th>\n",
              "      <td>Alice</td>\n",
              "      <td>Johnson</td>\n",
              "      <td>36.0</td>\n",
              "      <td>NaN</td>\n",
              "      <td>7</td>\n",
              "      <td>NaN</td>\n",
              "      <td>yes</td>\n",
              "    </tr>\n",
              "    <tr>\n",
              "      <th>60</th>\n",
              "      <td>Bob</td>\n",
              "      <td>Smith</td>\n",
              "      <td>NaN</td>\n",
              "      <td>NaN</td>\n",
              "      <td>5</td>\n",
              "      <td>NaN</td>\n",
              "      <td>no</td>\n",
              "    </tr>\n",
              "  </tbody>\n",
              "</table>\n",
              "</div>\n",
              "    <div class=\"colab-df-buttons\">\n",
              "\n",
              "  <div class=\"colab-df-container\">\n",
              "    <button class=\"colab-df-convert\" onclick=\"convertToInteractive('df-a3aea6f2-e430-4d85-9e20-6b6ef67c88d6')\"\n",
              "            title=\"Convert this dataframe to an interactive table.\"\n",
              "            style=\"display:none;\">\n",
              "\n",
              "  <svg xmlns=\"http://www.w3.org/2000/svg\" height=\"24px\" viewBox=\"0 -960 960 960\">\n",
              "    <path d=\"M120-120v-720h720v720H120Zm60-500h600v-160H180v160Zm220 220h160v-160H400v160Zm0 220h160v-160H400v160ZM180-400h160v-160H180v160Zm440 0h160v-160H620v160ZM180-180h160v-160H180v160Zm440 0h160v-160H620v160Z\"/>\n",
              "  </svg>\n",
              "    </button>\n",
              "\n",
              "  <style>\n",
              "    .colab-df-container {\n",
              "      display:flex;\n",
              "      gap: 12px;\n",
              "    }\n",
              "\n",
              "    .colab-df-convert {\n",
              "      background-color: #E8F0FE;\n",
              "      border: none;\n",
              "      border-radius: 50%;\n",
              "      cursor: pointer;\n",
              "      display: none;\n",
              "      fill: #1967D2;\n",
              "      height: 32px;\n",
              "      padding: 0 0 0 0;\n",
              "      width: 32px;\n",
              "    }\n",
              "\n",
              "    .colab-df-convert:hover {\n",
              "      background-color: #E2EBFA;\n",
              "      box-shadow: 0px 1px 2px rgba(60, 64, 67, 0.3), 0px 1px 3px 1px rgba(60, 64, 67, 0.15);\n",
              "      fill: #174EA6;\n",
              "    }\n",
              "\n",
              "    .colab-df-buttons div {\n",
              "      margin-bottom: 4px;\n",
              "    }\n",
              "\n",
              "    [theme=dark] .colab-df-convert {\n",
              "      background-color: #3B4455;\n",
              "      fill: #D2E3FC;\n",
              "    }\n",
              "\n",
              "    [theme=dark] .colab-df-convert:hover {\n",
              "      background-color: #434B5C;\n",
              "      box-shadow: 0px 1px 3px 1px rgba(0, 0, 0, 0.15);\n",
              "      filter: drop-shadow(0px 1px 2px rgba(0, 0, 0, 0.3));\n",
              "      fill: #FFFFFF;\n",
              "    }\n",
              "  </style>\n",
              "\n",
              "    <script>\n",
              "      const buttonEl =\n",
              "        document.querySelector('#df-a3aea6f2-e430-4d85-9e20-6b6ef67c88d6 button.colab-df-convert');\n",
              "      buttonEl.style.display =\n",
              "        google.colab.kernel.accessAllowed ? 'block' : 'none';\n",
              "\n",
              "      async function convertToInteractive(key) {\n",
              "        const element = document.querySelector('#df-a3aea6f2-e430-4d85-9e20-6b6ef67c88d6');\n",
              "        const dataTable =\n",
              "          await google.colab.kernel.invokeFunction('convertToInteractive',\n",
              "                                                    [key], {});\n",
              "        if (!dataTable) return;\n",
              "\n",
              "        const docLinkHtml = 'Like what you see? Visit the ' +\n",
              "          '<a target=\"_blank\" href=https://colab.research.google.com/notebooks/data_table.ipynb>data table notebook</a>'\n",
              "          + ' to learn more about interactive tables.';\n",
              "        element.innerHTML = '';\n",
              "        dataTable['output_type'] = 'display_data';\n",
              "        await google.colab.output.renderOutput(dataTable, element);\n",
              "        const docLink = document.createElement('div');\n",
              "        docLink.innerHTML = docLinkHtml;\n",
              "        element.appendChild(docLink);\n",
              "      }\n",
              "    </script>\n",
              "  </div>\n",
              "\n",
              "\n",
              "<div id=\"df-0d5f2313-d033-43e9-86fc-2aaf40ec97a4\">\n",
              "  <button class=\"colab-df-quickchart\" onclick=\"quickchart('df-0d5f2313-d033-43e9-86fc-2aaf40ec97a4')\"\n",
              "            title=\"Suggest charts\"\n",
              "            style=\"display:none;\">\n",
              "\n",
              "<svg xmlns=\"http://www.w3.org/2000/svg\" height=\"24px\"viewBox=\"0 0 24 24\"\n",
              "     width=\"24px\">\n",
              "    <g>\n",
              "        <path d=\"M19 3H5c-1.1 0-2 .9-2 2v14c0 1.1.9 2 2 2h14c1.1 0 2-.9 2-2V5c0-1.1-.9-2-2-2zM9 17H7v-7h2v7zm4 0h-2V7h2v10zm4 0h-2v-4h2v4z\"/>\n",
              "    </g>\n",
              "</svg>\n",
              "  </button>\n",
              "\n",
              "<style>\n",
              "  .colab-df-quickchart {\n",
              "      --bg-color: #E8F0FE;\n",
              "      --fill-color: #1967D2;\n",
              "      --hover-bg-color: #E2EBFA;\n",
              "      --hover-fill-color: #174EA6;\n",
              "      --disabled-fill-color: #AAA;\n",
              "      --disabled-bg-color: #DDD;\n",
              "  }\n",
              "\n",
              "  [theme=dark] .colab-df-quickchart {\n",
              "      --bg-color: #3B4455;\n",
              "      --fill-color: #D2E3FC;\n",
              "      --hover-bg-color: #434B5C;\n",
              "      --hover-fill-color: #FFFFFF;\n",
              "      --disabled-bg-color: #3B4455;\n",
              "      --disabled-fill-color: #666;\n",
              "  }\n",
              "\n",
              "  .colab-df-quickchart {\n",
              "    background-color: var(--bg-color);\n",
              "    border: none;\n",
              "    border-radius: 50%;\n",
              "    cursor: pointer;\n",
              "    display: none;\n",
              "    fill: var(--fill-color);\n",
              "    height: 32px;\n",
              "    padding: 0;\n",
              "    width: 32px;\n",
              "  }\n",
              "\n",
              "  .colab-df-quickchart:hover {\n",
              "    background-color: var(--hover-bg-color);\n",
              "    box-shadow: 0 1px 2px rgba(60, 64, 67, 0.3), 0 1px 3px 1px rgba(60, 64, 67, 0.15);\n",
              "    fill: var(--button-hover-fill-color);\n",
              "  }\n",
              "\n",
              "  .colab-df-quickchart-complete:disabled,\n",
              "  .colab-df-quickchart-complete:disabled:hover {\n",
              "    background-color: var(--disabled-bg-color);\n",
              "    fill: var(--disabled-fill-color);\n",
              "    box-shadow: none;\n",
              "  }\n",
              "\n",
              "  .colab-df-spinner {\n",
              "    border: 2px solid var(--fill-color);\n",
              "    border-color: transparent;\n",
              "    border-bottom-color: var(--fill-color);\n",
              "    animation:\n",
              "      spin 1s steps(1) infinite;\n",
              "  }\n",
              "\n",
              "  @keyframes spin {\n",
              "    0% {\n",
              "      border-color: transparent;\n",
              "      border-bottom-color: var(--fill-color);\n",
              "      border-left-color: var(--fill-color);\n",
              "    }\n",
              "    20% {\n",
              "      border-color: transparent;\n",
              "      border-left-color: var(--fill-color);\n",
              "      border-top-color: var(--fill-color);\n",
              "    }\n",
              "    30% {\n",
              "      border-color: transparent;\n",
              "      border-left-color: var(--fill-color);\n",
              "      border-top-color: var(--fill-color);\n",
              "      border-right-color: var(--fill-color);\n",
              "    }\n",
              "    40% {\n",
              "      border-color: transparent;\n",
              "      border-right-color: var(--fill-color);\n",
              "      border-top-color: var(--fill-color);\n",
              "    }\n",
              "    60% {\n",
              "      border-color: transparent;\n",
              "      border-right-color: var(--fill-color);\n",
              "    }\n",
              "    80% {\n",
              "      border-color: transparent;\n",
              "      border-right-color: var(--fill-color);\n",
              "      border-bottom-color: var(--fill-color);\n",
              "    }\n",
              "    90% {\n",
              "      border-color: transparent;\n",
              "      border-bottom-color: var(--fill-color);\n",
              "    }\n",
              "  }\n",
              "</style>\n",
              "\n",
              "  <script>\n",
              "    async function quickchart(key) {\n",
              "      const quickchartButtonEl =\n",
              "        document.querySelector('#' + key + ' button');\n",
              "      quickchartButtonEl.disabled = true;  // To prevent multiple clicks.\n",
              "      quickchartButtonEl.classList.add('colab-df-spinner');\n",
              "      try {\n",
              "        const charts = await google.colab.kernel.invokeFunction(\n",
              "            'suggestCharts', [key], {});\n",
              "      } catch (error) {\n",
              "        console.error('Error during call to suggestCharts:', error);\n",
              "      }\n",
              "      quickchartButtonEl.classList.remove('colab-df-spinner');\n",
              "      quickchartButtonEl.classList.add('colab-df-quickchart-complete');\n",
              "    }\n",
              "    (() => {\n",
              "      let quickchartButtonEl =\n",
              "        document.querySelector('#df-0d5f2313-d033-43e9-86fc-2aaf40ec97a4 button');\n",
              "      quickchartButtonEl.style.display =\n",
              "        google.colab.kernel.accessAllowed ? 'block' : 'none';\n",
              "    })();\n",
              "  </script>\n",
              "</div>\n",
              "    </div>\n",
              "  </div>\n"
            ],
            "application/vnd.google.colaboratory.intrinsic+json": {
              "type": "dataframe",
              "summary": "{\n  \"name\": \"df\",\n  \"rows\": 5,\n  \"fields\": [\n    {\n      \"column\": \"Name\",\n      \"properties\": {\n        \"dtype\": \"string\",\n        \"num_unique_values\": 5,\n        \"samples\": [\n          \"Gregory \",\n          \"Bob\",\n          \"Sidney \"\n        ],\n        \"semantic_type\": \"\",\n        \"description\": \"\"\n      }\n    },\n    {\n      \"column\": \"Surname\",\n      \"properties\": {\n        \"dtype\": \"string\",\n        \"num_unique_values\": 5,\n        \"samples\": [\n          \"Peck\",\n          \"Smith\",\n          \"Poitier\"\n        ],\n        \"semantic_type\": \"\",\n        \"description\": \"\"\n      }\n    },\n    {\n      \"column\": \"Age\",\n      \"properties\": {\n        \"dtype\": \"number\",\n        \"std\": 16.977926846349646,\n        \"min\": 36.0,\n        \"max\": 75.0,\n        \"num_unique_values\": 4,\n        \"samples\": [\n          43.0,\n          36.0,\n          75.0\n        ],\n        \"semantic_type\": \"\",\n        \"description\": \"\"\n      }\n    },\n    {\n      \"column\": \"Smokes\",\n      \"properties\": {\n        \"dtype\": \"number\",\n        \"std\": 7.637626158259733,\n        \"min\": 15.0,\n        \"max\": 30.0,\n        \"num_unique_values\": 3,\n        \"samples\": [\n          15.0,\n          30.0,\n          25.0\n        ],\n        \"semantic_type\": \"\",\n        \"description\": \"\"\n      }\n    },\n    {\n      \"column\": \"AreaQ\",\n      \"properties\": {\n        \"dtype\": \"number\",\n        \"std\": 2,\n        \"min\": 3,\n        \"max\": 9,\n        \"num_unique_values\": 4,\n        \"samples\": [\n          9,\n          5,\n          3\n        ],\n        \"semantic_type\": \"\",\n        \"description\": \"\"\n      }\n    },\n    {\n      \"column\": \"Alkhol\",\n      \"properties\": {\n        \"dtype\": \"number\",\n        \"std\": 4.041451884327381,\n        \"min\": 0.0,\n        \"max\": 8.0,\n        \"num_unique_values\": 3,\n        \"samples\": [\n          5.0,\n          8.0,\n          0.0\n        ],\n        \"semantic_type\": \"\",\n        \"description\": \"\"\n      }\n    },\n    {\n      \"column\": \"Result\",\n      \"properties\": {\n        \"dtype\": \"category\",\n        \"num_unique_values\": 2,\n        \"samples\": [\n          \"no\",\n          \"yes\"\n        ],\n        \"semantic_type\": \"\",\n        \"description\": \"\"\n      }\n    }\n  ]\n}"
            }
          },
          "metadata": {},
          "execution_count": 50
        }
      ]
    },
    {
      "cell_type": "markdown",
      "source": [
        "Observation : We found out that there are few NaN values in our dataset"
      ],
      "metadata": {
        "id": "ACeJtxqAkHqS"
      }
    },
    {
      "cell_type": "markdown",
      "source": [
        "# 3. Preprocessing and Data Cleaning for EDA"
      ],
      "metadata": {
        "id": "hF9ufH6YkbSY"
      }
    },
    {
      "cell_type": "code",
      "source": [
        "# Finding our null values in columns\n",
        "df.isnull().sum()"
      ],
      "metadata": {
        "colab": {
          "base_uri": "https://localhost:8080/"
        },
        "id": "gaoW3x4ckGFZ",
        "outputId": "7281e808-949c-4b04-d6ad-c1ac6607ace9"
      },
      "execution_count": 51,
      "outputs": [
        {
          "output_type": "execute_result",
          "data": {
            "text/plain": [
              "Name       0\n",
              "Surname    0\n",
              "Age        1\n",
              "Smokes     2\n",
              "AreaQ      0\n",
              "Alkhol     2\n",
              "Result     0\n",
              "dtype: int64"
            ]
          },
          "metadata": {},
          "execution_count": 51
        }
      ]
    },
    {
      "cell_type": "markdown",
      "source": [
        "#### Observation : There are 2 each null values in Smokes and Alkhol columns. There is one null value in Age column"
      ],
      "metadata": {
        "id": "1ATE5XQflDGP"
      }
    },
    {
      "cell_type": "code",
      "source": [],
      "metadata": {
        "id": "sa7EdOWmkr64"
      },
      "execution_count": 51,
      "outputs": []
    },
    {
      "cell_type": "markdown",
      "source": [
        "#### We will use Imputation technique which includes mean,median and mode to solve this issue. We will check which imputation can be used on this."
      ],
      "metadata": {
        "id": "Y35SDQ5qlgEE"
      }
    },
    {
      "cell_type": "code",
      "source": [
        "sns.displot(df[\"Age\"], kde = True, edgecolor = \"black\")\n",
        "plt.show()"
      ],
      "metadata": {
        "colab": {
          "base_uri": "https://localhost:8080/",
          "height": 506
        },
        "id": "72a8P0i1l9qW",
        "outputId": "102f7726-ea67-4189-ef1b-f745a9626e9c"
      },
      "execution_count": 52,
      "outputs": [
        {
          "output_type": "display_data",
          "data": {
            "text/plain": [
              "<Figure size 500x500 with 1 Axes>"
            ],
            "image/png": "[encoded data removed]"
          },
          "metadata": {}
        }
      ]
    },
    {
      "cell_type": "markdown",
      "source": [
        "#### Observation : Plot is left skewed, hence we will use median technique."
      ],
      "metadata": {
        "id": "Ig8ARE9gmzW7"
      }
    },
    {
      "cell_type": "code",
      "source": [
        "sns.displot(df[\"Smokes\"], kde=True, edgecolor=\"black\")\n",
        "plt.show()"
      ],
      "metadata": {
        "colab": {
          "base_uri": "https://localhost:8080/",
          "height": 507
        },
        "id": "VfqmZzpTmKNr",
        "outputId": "17fa572a-5624-4c5b-c086-3c26c523abbb"
      },
      "execution_count": 53,
      "outputs": [
        {
          "output_type": "display_data",
          "data": {
            "text/plain": [
              "<Figure size 500x500 with 1 Axes>"
            ],
            "image/png": "[encoded data removed]"
          },
          "metadata": {}
        }
      ]
    },
    {
      "cell_type": "markdown",
      "source": [
        "#### Observation : Plot is right skewed, hence we will use median technique."
      ],
      "metadata": {
        "id": "yzwJN5y2m8uE"
      }
    },
    {
      "cell_type": "code",
      "source": [
        "sns.displot(df[\"Alkhol\"], kde = True, edgecolor=\"black\")\n",
        "plt.show()"
      ],
      "metadata": {
        "colab": {
          "base_uri": "https://localhost:8080/",
          "height": 506
        },
        "id": "8sjRG--ymY0p",
        "outputId": "37c87f7e-7679-486c-d123-4691cceadc06"
      },
      "execution_count": 54,
      "outputs": [
        {
          "output_type": "display_data",
          "data": {
            "text/plain": [
              "<Figure size 500x500 with 1 Axes>"
            ],
            "image/png": "[encoded data removed]"
          },
          "metadata": {}
        }
      ]
    },
    {
      "cell_type": "markdown",
      "source": [
        "#### Observation : Plot is slightly left skewed, hence we will use median technique."
      ],
      "metadata": {
        "id": "4l-17u3DnBmh"
      }
    },
    {
      "cell_type": "markdown",
      "source": [
        "Now, we will use median technique on all the three columns."
      ],
      "metadata": {
        "id": "99GCqGx8nGsD"
      }
    },
    {
      "cell_type": "code",
      "source": [
        "df[\"Age\"].fillna(df[\"Age\"].median(), inplace = True)"
      ],
      "metadata": {
        "id": "vqqaP7ULmqtR"
      },
      "execution_count": 55,
      "outputs": []
    },
    {
      "cell_type": "code",
      "source": [
        "df[\"Smokes\"].fillna(df[\"Smokes\"].median(), inplace = True)"
      ],
      "metadata": {
        "id": "HQZEYJYRnvGy"
      },
      "execution_count": 56,
      "outputs": []
    },
    {
      "cell_type": "code",
      "source": [
        "df[\"Alkhol\"].fillna(df[\"Alkhol\"].median(), inplace = True)"
      ],
      "metadata": {
        "id": "tSxWFZLyn9fe"
      },
      "execution_count": 57,
      "outputs": []
    },
    {
      "cell_type": "code",
      "source": [
        "# Now, we will check if the null values are filled with median values or not\n",
        "\n",
        "df.isnull().sum()"
      ],
      "metadata": {
        "colab": {
          "base_uri": "https://localhost:8080/"
        },
        "id": "Jt2KODFOoEaQ",
        "outputId": "50353f6e-21e2-4233-bb08-0819b0f7a8d6"
      },
      "execution_count": 58,
      "outputs": [
        {
          "output_type": "execute_result",
          "data": {
            "text/plain": [
              "Name       0\n",
              "Surname    0\n",
              "Age        0\n",
              "Smokes     0\n",
              "AreaQ      0\n",
              "Alkhol     0\n",
              "Result     0\n",
              "dtype: int64"
            ]
          },
          "metadata": {},
          "execution_count": 58
        }
      ]
    },
    {
      "cell_type": "markdown",
      "source": [
        "#### Observation : We have replaced our null values with median values in three columns : Age, Smokes and Alkhol"
      ],
      "metadata": {
        "id": "jjkavSebo-uk"
      }
    },
    {
      "cell_type": "code",
      "source": [
        "# We will check if our dataset is balanced or not\n",
        "\n",
        "df[\"Result\"].value_counts()"
      ],
      "metadata": {
        "colab": {
          "base_uri": "https://localhost:8080/"
        },
        "id": "6gtHFUJ2oQYY",
        "outputId": "b64fb45b-71af-4bf7-a166-1c77c18152d5"
      },
      "execution_count": 59,
      "outputs": [
        {
          "output_type": "execute_result",
          "data": {
            "text/plain": [
              "Result\n",
              "no     32\n",
              "yes    29\n",
              "Name: count, dtype: int64"
            ]
          },
          "metadata": {},
          "execution_count": 59
        }
      ]
    },
    {
      "cell_type": "markdown",
      "source": [
        "#### Observation : We have ratio of 32-29, so its fairly balanced dataset, so no further action is needed to balance the dataset"
      ],
      "metadata": {
        "id": "_i1w8XBTo26L"
      }
    },
    {
      "cell_type": "markdown",
      "source": [
        "Our \"Result\" column is our target column, we need to change it into form of 0s and 1s. We are going to use Label Encoding to this"
      ],
      "metadata": {
        "id": "w8RF9tMvpVyr"
      }
    },
    {
      "cell_type": "code",
      "source": [
        "# Applying Label Encoding\n",
        "le = LabelEncoder()\n",
        "df[\"Result\"] = le.fit_transform(df[\"Result\"])"
      ],
      "metadata": {
        "id": "T4_FYi_5oZk5"
      },
      "execution_count": 60,
      "outputs": []
    },
    {
      "cell_type": "code",
      "source": [
        "# Printing first 5 rows to check if the label encoding got applied on our data or not\n",
        "df.head()"
      ],
      "metadata": {
        "colab": {
          "base_uri": "https://localhost:8080/",
          "height": 206
        },
        "id": "jKhUU5fWp0jJ",
        "outputId": "c021b759-3153-4cc5-9325-9cc90a7fb833"
      },
      "execution_count": 61,
      "outputs": [
        {
          "output_type": "execute_result",
          "data": {
            "text/plain": [
              "     Name      Surname   Age  Smokes  AreaQ  Alkhol  Result\n",
              "0    John         Wick  35.0     3.0      5     4.0       1\n",
              "1    John  Constantine  27.0    20.0      2     5.0       1\n",
              "2  Camela     Anderson  30.0     0.0      5     2.0       0\n",
              "3    Alex       Telles  28.0     0.0      8     1.0       0\n",
              "4   Diego     Maradona  68.0     4.0      5     6.0       1"
            ],
            "text/html": [
              "\n",
              "  <div id=\"df-8a51f13d-def9-4e4d-95c6-e8612f1f277d\" class=\"colab-df-container\">\n",
              "    <div>\n",
              "<style scoped>\n",
              "    .dataframe tbody tr th:only-of-type {\n",
              "        vertical-align: middle;\n",
              "    }\n",
              "\n",
              "    .dataframe tbody tr th {\n",
              "        vertical-align: top;\n",
              "    }\n",
              "\n",
              "    .dataframe thead th {\n",
              "        text-align: right;\n",
              "    }\n",
              "</style>\n",
              "<table border=\"1\" class=\"dataframe\">\n",
              "  <thead>\n",
              "    <tr style=\"text-align: right;\">\n",
              "      <th></th>\n",
              "      <th>Name</th>\n",
              "      <th>Surname</th>\n",
              "      <th>Age</th>\n",
              "      <th>Smokes</th>\n",
              "      <th>AreaQ</th>\n",
              "      <th>Alkhol</th>\n",
              "      <th>Result</th>\n",
              "    </tr>\n",
              "  </thead>\n",
              "  <tbody>\n",
              "    <tr>\n",
              "      <th>0</th>\n",
              "      <td>John</td>\n",
              "      <td>Wick</td>\n",
              "      <td>35.0</td>\n",
              "      <td>3.0</td>\n",
              "      <td>5</td>\n",
              "      <td>4.0</td>\n",
              "      <td>1</td>\n",
              "    </tr>\n",
              "    <tr>\n",
              "      <th>1</th>\n",
              "      <td>John</td>\n",
              "      <td>Constantine</td>\n",
              "      <td>27.0</td>\n",
              "      <td>20.0</td>\n",
              "      <td>2</td>\n",
              "      <td>5.0</td>\n",
              "      <td>1</td>\n",
              "    </tr>\n",
              "    <tr>\n",
              "      <th>2</th>\n",
              "      <td>Camela</td>\n",
              "      <td>Anderson</td>\n",
              "      <td>30.0</td>\n",
              "      <td>0.0</td>\n",
              "      <td>5</td>\n",
              "      <td>2.0</td>\n",
              "      <td>0</td>\n",
              "    </tr>\n",
              "    <tr>\n",
              "      <th>3</th>\n",
              "      <td>Alex</td>\n",
              "      <td>Telles</td>\n",
              "      <td>28.0</td>\n",
              "      <td>0.0</td>\n",
              "      <td>8</td>\n",
              "      <td>1.0</td>\n",
              "      <td>0</td>\n",
              "    </tr>\n",
              "    <tr>\n",
              "      <th>4</th>\n",
              "      <td>Diego</td>\n",
              "      <td>Maradona</td>\n",
              "      <td>68.0</td>\n",
              "      <td>4.0</td>\n",
              "      <td>5</td>\n",
              "      <td>6.0</td>\n",
              "      <td>1</td>\n",
              "    </tr>\n",
              "  </tbody>\n",
              "</table>\n",
              "</div>\n",
              "    <div class=\"colab-df-buttons\">\n",
              "\n",
              "  <div class=\"colab-df-container\">\n",
              "    <button class=\"colab-df-convert\" onclick=\"convertToInteractive('df-8a51f13d-def9-4e4d-95c6-e8612f1f277d')\"\n",
              "            title=\"Convert this dataframe to an interactive table.\"\n",
              "            style=\"display:none;\">\n",
              "\n",
              "  <svg xmlns=\"http://www.w3.org/2000/svg\" height=\"24px\" viewBox=\"0 -960 960 960\">\n",
              "    <path d=\"M120-120v-720h720v720H120Zm60-500h600v-160H180v160Zm220 220h160v-160H400v160Zm0 220h160v-160H400v160ZM180-400h160v-160H180v160Zm440 0h160v-160H620v160ZM180-180h160v-160H180v160Zm440 0h160v-160H620v160Z\"/>\n",
              "  </svg>\n",
              "    </button>\n",
              "\n",
              "  <style>\n",
              "    .colab-df-container {\n",
              "      display:flex;\n",
              "      gap: 12px;\n",
              "    }\n",
              "\n",
              "    .colab-df-convert {\n",
              "      background-color: #E8F0FE;\n",
              "      border: none;\n",
              "      border-radius: 50%;\n",
              "      cursor: pointer;\n",
              "      display: none;\n",
              "      fill: #1967D2;\n",
              "      height: 32px;\n",
              "      padding: 0 0 0 0;\n",
              "      width: 32px;\n",
              "    }\n",
              "\n",
              "    .colab-df-convert:hover {\n",
              "      background-color: #E2EBFA;\n",
              "      box-shadow: 0px 1px 2px rgba(60, 64, 67, 0.3), 0px 1px 3px 1px rgba(60, 64, 67, 0.15);\n",
              "      fill: #174EA6;\n",
              "    }\n",
              "\n",
              "    .colab-df-buttons div {\n",
              "      margin-bottom: 4px;\n",
              "    }\n",
              "\n",
              "    [theme=dark] .colab-df-convert {\n",
              "      background-color: #3B4455;\n",
              "      fill: #D2E3FC;\n",
              "    }\n",
              "\n",
              "    [theme=dark] .colab-df-convert:hover {\n",
              "      background-color: #434B5C;\n",
              "      box-shadow: 0px 1px 3px 1px rgba(0, 0, 0, 0.15);\n",
              "      filter: drop-shadow(0px 1px 2px rgba(0, 0, 0, 0.3));\n",
              "      fill: #FFFFFF;\n",
              "    }\n",
              "  </style>\n",
              "\n",
              "    <script>\n",
              "      const buttonEl =\n",
              "        document.querySelector('#df-8a51f13d-def9-4e4d-95c6-e8612f1f277d button.colab-df-convert');\n",
              "      buttonEl.style.display =\n",
              "        google.colab.kernel.accessAllowed ? 'block' : 'none';\n",
              "\n",
              "      async function convertToInteractive(key) {\n",
              "        const element = document.querySelector('#df-8a51f13d-def9-4e4d-95c6-e8612f1f277d');\n",
              "        const dataTable =\n",
              "          await google.colab.kernel.invokeFunction('convertToInteractive',\n",
              "                                                    [key], {});\n",
              "        if (!dataTable) return;\n",
              "\n",
              "        const docLinkHtml = 'Like what you see? Visit the ' +\n",
              "          '<a target=\"_blank\" href=https://colab.research.google.com/notebooks/data_table.ipynb>data table notebook</a>'\n",
              "          + ' to learn more about interactive tables.';\n",
              "        element.innerHTML = '';\n",
              "        dataTable['output_type'] = 'display_data';\n",
              "        await google.colab.output.renderOutput(dataTable, element);\n",
              "        const docLink = document.createElement('div');\n",
              "        docLink.innerHTML = docLinkHtml;\n",
              "        element.appendChild(docLink);\n",
              "      }\n",
              "    </script>\n",
              "  </div>\n",
              "\n",
              "\n",
              "<div id=\"df-53f9c3db-6e42-4537-8aa0-89fb11d4eff8\">\n",
              "  <button class=\"colab-df-quickchart\" onclick=\"quickchart('df-53f9c3db-6e42-4537-8aa0-89fb11d4eff8')\"\n",
              "            title=\"Suggest charts\"\n",
              "            style=\"display:none;\">\n",
              "\n",
              "<svg xmlns=\"http://www.w3.org/2000/svg\" height=\"24px\"viewBox=\"0 0 24 24\"\n",
              "     width=\"24px\">\n",
              "    <g>\n",
              "        <path d=\"M19 3H5c-1.1 0-2 .9-2 2v14c0 1.1.9 2 2 2h14c1.1 0 2-.9 2-2V5c0-1.1-.9-2-2-2zM9 17H7v-7h2v7zm4 0h-2V7h2v10zm4 0h-2v-4h2v4z\"/>\n",
              "    </g>\n",
              "</svg>\n",
              "  </button>\n",
              "\n",
              "<style>\n",
              "  .colab-df-quickchart {\n",
              "      --bg-color: #E8F0FE;\n",
              "      --fill-color: #1967D2;\n",
              "      --hover-bg-color: #E2EBFA;\n",
              "      --hover-fill-color: #174EA6;\n",
              "      --disabled-fill-color: #AAA;\n",
              "      --disabled-bg-color: #DDD;\n",
              "  }\n",
              "\n",
              "  [theme=dark] .colab-df-quickchart {\n",
              "      --bg-color: #3B4455;\n",
              "      --fill-color: #D2E3FC;\n",
              "      --hover-bg-color: #434B5C;\n",
              "      --hover-fill-color: #FFFFFF;\n",
              "      --disabled-bg-color: #3B4455;\n",
              "      --disabled-fill-color: #666;\n",
              "  }\n",
              "\n",
              "  .colab-df-quickchart {\n",
              "    background-color: var(--bg-color);\n",
              "    border: none;\n",
              "    border-radius: 50%;\n",
              "    cursor: pointer;\n",
              "    display: none;\n",
              "    fill: var(--fill-color);\n",
              "    height: 32px;\n",
              "    padding: 0;\n",
              "    width: 32px;\n",
              "  }\n",
              "\n",
              "  .colab-df-quickchart:hover {\n",
              "    background-color: var(--hover-bg-color);\n",
              "    box-shadow: 0 1px 2px rgba(60, 64, 67, 0.3), 0 1px 3px 1px rgba(60, 64, 67, 0.15);\n",
              "    fill: var(--button-hover-fill-color);\n",
              "  }\n",
              "\n",
              "  .colab-df-quickchart-complete:disabled,\n",
              "  .colab-df-quickchart-complete:disabled:hover {\n",
              "    background-color: var(--disabled-bg-color);\n",
              "    fill: var(--disabled-fill-color);\n",
              "    box-shadow: none;\n",
              "  }\n",
              "\n",
              "  .colab-df-spinner {\n",
              "    border: 2px solid var(--fill-color);\n",
              "    border-color: transparent;\n",
              "    border-bottom-color: var(--fill-color);\n",
              "    animation:\n",
              "      spin 1s steps(1) infinite;\n",
              "  }\n",
              "\n",
              "  @keyframes spin {\n",
              "    0% {\n",
              "      border-color: transparent;\n",
              "      border-bottom-color: var(--fill-color);\n",
              "      border-left-color: var(--fill-color);\n",
              "    }\n",
              "    20% {\n",
              "      border-color: transparent;\n",
              "      border-left-color: var(--fill-color);\n",
              "      border-top-color: var(--fill-color);\n",
              "    }\n",
              "    30% {\n",
              "      border-color: transparent;\n",
              "      border-left-color: var(--fill-color);\n",
              "      border-top-color: var(--fill-color);\n",
              "      border-right-color: var(--fill-color);\n",
              "    }\n",
              "    40% {\n",
              "      border-color: transparent;\n",
              "      border-right-color: var(--fill-color);\n",
              "      border-top-color: var(--fill-color);\n",
              "    }\n",
              "    60% {\n",
              "      border-color: transparent;\n",
              "      border-right-color: var(--fill-color);\n",
              "    }\n",
              "    80% {\n",
              "      border-color: transparent;\n",
              "      border-right-color: var(--fill-color);\n",
              "      border-bottom-color: var(--fill-color);\n",
              "    }\n",
              "    90% {\n",
              "      border-color: transparent;\n",
              "      border-bottom-color: var(--fill-color);\n",
              "    }\n",
              "  }\n",
              "</style>\n",
              "\n",
              "  <script>\n",
              "    async function quickchart(key) {\n",
              "      const quickchartButtonEl =\n",
              "        document.querySelector('#' + key + ' button');\n",
              "      quickchartButtonEl.disabled = true;  // To prevent multiple clicks.\n",
              "      quickchartButtonEl.classList.add('colab-df-spinner');\n",
              "      try {\n",
              "        const charts = await google.colab.kernel.invokeFunction(\n",
              "            'suggestCharts', [key], {});\n",
              "      } catch (error) {\n",
              "        console.error('Error during call to suggestCharts:', error);\n",
              "      }\n",
              "      quickchartButtonEl.classList.remove('colab-df-spinner');\n",
              "      quickchartButtonEl.classList.add('colab-df-quickchart-complete');\n",
              "    }\n",
              "    (() => {\n",
              "      let quickchartButtonEl =\n",
              "        document.querySelector('#df-53f9c3db-6e42-4537-8aa0-89fb11d4eff8 button');\n",
              "      quickchartButtonEl.style.display =\n",
              "        google.colab.kernel.accessAllowed ? 'block' : 'none';\n",
              "    })();\n",
              "  </script>\n",
              "</div>\n",
              "    </div>\n",
              "  </div>\n"
            ],
            "application/vnd.google.colaboratory.intrinsic+json": {
              "type": "dataframe",
              "variable_name": "df",
              "summary": "{\n  \"name\": \"df\",\n  \"rows\": 61,\n  \"fields\": [\n    {\n      \"column\": \"Name\",\n      \"properties\": {\n        \"dtype\": \"string\",\n        \"num_unique_values\": 51,\n        \"samples\": [\n          \"Nicole \",\n          \"Jessica \",\n          \"Ernest \"\n        ],\n        \"semantic_type\": \"\",\n        \"description\": \"\"\n      }\n    },\n    {\n      \"column\": \"Surname\",\n      \"properties\": {\n        \"dtype\": \"string\",\n        \"num_unique_values\": 50,\n        \"samples\": [\n          \"Wyman\",\n          \"Keaton\",\n          \"Lemmon\"\n        ],\n        \"semantic_type\": \"\",\n        \"description\": \"\"\n      }\n    },\n    {\n      \"column\": \"Age\",\n      \"properties\": {\n        \"dtype\": \"number\",\n        \"std\": 15.991220268730594,\n        \"min\": 18.0,\n        \"max\": 77.0,\n        \"num_unique_values\": 37,\n        \"samples\": [\n          73.0,\n          39.0,\n          68.0\n        ],\n        \"semantic_type\": \"\",\n        \"description\": \"\"\n      }\n    },\n    {\n      \"column\": \"Smokes\",\n      \"properties\": {\n        \"dtype\": \"number\",\n        \"std\": 7.8504115655571765,\n        \"min\": 0.0,\n        \"max\": 34.0,\n        \"num_unique_values\": 16,\n        \"samples\": [\n          3.0,\n          20.0,\n          12.0\n        ],\n        \"semantic_type\": \"\",\n        \"description\": \"\"\n      }\n    },\n    {\n      \"column\": \"AreaQ\",\n      \"properties\": {\n        \"dtype\": \"number\",\n        \"std\": 2,\n        \"min\": 1,\n        \"max\": 10,\n        \"num_unique_values\": 10,\n        \"samples\": [\n          1,\n          2,\n          4\n        ],\n        \"semantic_type\": \"\",\n        \"description\": \"\"\n      }\n    },\n    {\n      \"column\": \"Alkhol\",\n      \"properties\": {\n        \"dtype\": \"number\",\n        \"std\": 2.3408932954675716,\n        \"min\": 0.0,\n        \"max\": 8.0,\n        \"num_unique_values\": 9,\n        \"samples\": [\n          8.0,\n          5.0,\n          0.0\n        ],\n        \"semantic_type\": \"\",\n        \"description\": \"\"\n      }\n    },\n    {\n      \"column\": \"Result\",\n      \"properties\": {\n        \"dtype\": \"number\",\n        \"std\": 0,\n        \"min\": 0,\n        \"max\": 1,\n        \"num_unique_values\": 2,\n        \"samples\": [\n          0,\n          1\n        ],\n        \"semantic_type\": \"\",\n        \"description\": \"\"\n      }\n    }\n  ]\n}"
            }
          },
          "metadata": {},
          "execution_count": 61
        }
      ]
    },
    {
      "cell_type": "markdown",
      "source": [
        "Observation : Label Encoder was successfull applied on Result column"
      ],
      "metadata": {
        "id": "ymW4jRNKqHAT"
      }
    },
    {
      "cell_type": "markdown",
      "source": [
        "# 4. Exploratory Data Analysis"
      ],
      "metadata": {
        "id": "t8Fckf29qstQ"
      }
    },
    {
      "cell_type": "markdown",
      "source": [
        "#### 4-1. Statistics : Using describe function to get overview of statistics of our dataset"
      ],
      "metadata": {
        "id": "JV5fV7DH2AEQ"
      }
    },
    {
      "cell_type": "code",
      "source": [
        "df.describe()"
      ],
      "metadata": {
        "colab": {
          "base_uri": "https://localhost:8080/",
          "height": 300
        },
        "id": "rsqP3sQoqpvK",
        "outputId": "ab0f0a4b-6f94-4264-f313-efdb94fd558c"
      },
      "execution_count": 62,
      "outputs": [
        {
          "output_type": "execute_result",
          "data": {
            "text/plain": [
              "             Age     Smokes      AreaQ     Alkhol     Result\n",
              "count  61.000000  61.000000  61.000000  61.000000  61.000000\n",
              "mean   42.459016  15.065574   5.229508   3.229508   0.475410\n",
              "std    15.991220   7.850412   2.431690   2.340893   0.503539\n",
              "min    18.000000   0.000000   1.000000   0.000000   0.000000\n",
              "25%    30.000000  10.000000   3.000000   1.000000   0.000000\n",
              "50%    39.000000  15.000000   5.000000   3.000000   0.000000\n",
              "75%    55.000000  20.000000   7.000000   5.000000   1.000000\n",
              "max    77.000000  34.000000  10.000000   8.000000   1.000000"
            ],
            "text/html": [
              "\n",
              "  <div id=\"df-2a332955-fe09-4b3e-9247-ffdff90487c6\" class=\"colab-df-container\">\n",
              "    <div>\n",
              "<style scoped>\n",
              "    .dataframe tbody tr th:only-of-type {\n",
              "        vertical-align: middle;\n",
              "    }\n",
              "\n",
              "    .dataframe tbody tr th {\n",
              "        vertical-align: top;\n",
              "    }\n",
              "\n",
              "    .dataframe thead th {\n",
              "        text-align: right;\n",
              "    }\n",
              "</style>\n",
              "<table border=\"1\" class=\"dataframe\">\n",
              "  <thead>\n",
              "    <tr style=\"text-align: right;\">\n",
              "      <th></th>\n",
              "      <th>Age</th>\n",
              "      <th>Smokes</th>\n",
              "      <th>AreaQ</th>\n",
              "      <th>Alkhol</th>\n",
              "      <th>Result</th>\n",
              "    </tr>\n",
              "  </thead>\n",
              "  <tbody>\n",
              "    <tr>\n",
              "      <th>count</th>\n",
              "      <td>61.000000</td>\n",
              "      <td>61.000000</td>\n",
              "      <td>61.000000</td>\n",
              "      <td>61.000000</td>\n",
              "      <td>61.000000</td>\n",
              "    </tr>\n",
              "    <tr>\n",
              "      <th>mean</th>\n",
              "      <td>42.459016</td>\n",
              "      <td>15.065574</td>\n",
              "      <td>5.229508</td>\n",
              "      <td>3.229508</td>\n",
              "      <td>0.475410</td>\n",
              "    </tr>\n",
              "    <tr>\n",
              "      <th>std</th>\n",
              "      <td>15.991220</td>\n",
              "      <td>7.850412</td>\n",
              "      <td>2.431690</td>\n",
              "      <td>2.340893</td>\n",
              "      <td>0.503539</td>\n",
              "    </tr>\n",
              "    <tr>\n",
              "      <th>min</th>\n",
              "      <td>18.000000</td>\n",
              "      <td>0.000000</td>\n",
              "      <td>1.000000</td>\n",
              "      <td>0.000000</td>\n",
              "      <td>0.000000</td>\n",
              "    </tr>\n",
              "    <tr>\n",
              "      <th>25%</th>\n",
              "      <td>30.000000</td>\n",
              "      <td>10.000000</td>\n",
              "      <td>3.000000</td>\n",
              "      <td>1.000000</td>\n",
              "      <td>0.000000</td>\n",
              "    </tr>\n",
              "    <tr>\n",
              "      <th>50%</th>\n",
              "      <td>39.000000</td>\n",
              "      <td>15.000000</td>\n",
              "      <td>5.000000</td>\n",
              "      <td>3.000000</td>\n",
              "      <td>0.000000</td>\n",
              "    </tr>\n",
              "    <tr>\n",
              "      <th>75%</th>\n",
              "      <td>55.000000</td>\n",
              "      <td>20.000000</td>\n",
              "      <td>7.000000</td>\n",
              "      <td>5.000000</td>\n",
              "      <td>1.000000</td>\n",
              "    </tr>\n",
              "    <tr>\n",
              "      <th>max</th>\n",
              "      <td>77.000000</td>\n",
              "      <td>34.000000</td>\n",
              "      <td>10.000000</td>\n",
              "      <td>8.000000</td>\n",
              "      <td>1.000000</td>\n",
              "    </tr>\n",
              "  </tbody>\n",
              "</table>\n",
              "</div>\n",
              "    <div class=\"colab-df-buttons\">\n",
              "\n",
              "  <div class=\"colab-df-container\">\n",
              "    <button class=\"colab-df-convert\" onclick=\"convertToInteractive('df-2a332955-fe09-4b3e-9247-ffdff90487c6')\"\n",
              "            title=\"Convert this dataframe to an interactive table.\"\n",
              "            style=\"display:none;\">\n",
              "\n",
              "  <svg xmlns=\"http://www.w3.org/2000/svg\" height=\"24px\" viewBox=\"0 -960 960 960\">\n",
              "    <path d=\"M120-120v-720h720v720H120Zm60-500h600v-160H180v160Zm220 220h160v-160H400v160Zm0 220h160v-160H400v160ZM180-400h160v-160H180v160Zm440 0h160v-160H620v160ZM180-180h160v-160H180v160Zm440 0h160v-160H620v160Z\"/>\n",
              "  </svg>\n",
              "    </button>\n",
              "\n",
              "  <style>\n",
              "    .colab-df-container {\n",
              "      display:flex;\n",
              "      gap: 12px;\n",
              "    }\n",
              "\n",
              "    .colab-df-convert {\n",
              "      background-color: #E8F0FE;\n",
              "      border: none;\n",
              "      border-radius: 50%;\n",
              "      cursor: pointer;\n",
              "      display: none;\n",
              "      fill: #1967D2;\n",
              "      height: 32px;\n",
              "      padding: 0 0 0 0;\n",
              "      width: 32px;\n",
              "    }\n",
              "\n",
              "    .colab-df-convert:hover {\n",
              "      background-color: #E2EBFA;\n",
              "      box-shadow: 0px 1px 2px rgba(60, 64, 67, 0.3), 0px 1px 3px 1px rgba(60, 64, 67, 0.15);\n",
              "      fill: #174EA6;\n",
              "    }\n",
              "\n",
              "    .colab-df-buttons div {\n",
              "      margin-bottom: 4px;\n",
              "    }\n",
              "\n",
              "    [theme=dark] .colab-df-convert {\n",
              "      background-color: #3B4455;\n",
              "      fill: #D2E3FC;\n",
              "    }\n",
              "\n",
              "    [theme=dark] .colab-df-convert:hover {\n",
              "      background-color: #434B5C;\n",
              "      box-shadow: 0px 1px 3px 1px rgba(0, 0, 0, 0.15);\n",
              "      filter: drop-shadow(0px 1px 2px rgba(0, 0, 0, 0.3));\n",
              "      fill: #FFFFFF;\n",
              "    }\n",
              "  </style>\n",
              "\n",
              "    <script>\n",
              "      const buttonEl =\n",
              "        document.querySelector('#df-2a332955-fe09-4b3e-9247-ffdff90487c6 button.colab-df-convert');\n",
              "      buttonEl.style.display =\n",
              "        google.colab.kernel.accessAllowed ? 'block' : 'none';\n",
              "\n",
              "      async function convertToInteractive(key) {\n",
              "        const element = document.querySelector('#df-2a332955-fe09-4b3e-9247-ffdff90487c6');\n",
              "        const dataTable =\n",
              "          await google.colab.kernel.invokeFunction('convertToInteractive',\n",
              "                                                    [key], {});\n",
              "        if (!dataTable) return;\n",
              "\n",
              "        const docLinkHtml = 'Like what you see? Visit the ' +\n",
              "          '<a target=\"_blank\" href=https://colab.research.google.com/notebooks/data_table.ipynb>data table notebook</a>'\n",
              "          + ' to learn more about interactive tables.';\n",
              "        element.innerHTML = '';\n",
              "        dataTable['output_type'] = 'display_data';\n",
              "        await google.colab.output.renderOutput(dataTable, element);\n",
              "        const docLink = document.createElement('div');\n",
              "        docLink.innerHTML = docLinkHtml;\n",
              "        element.appendChild(docLink);\n",
              "      }\n",
              "    </script>\n",
              "  </div>\n",
              "\n",
              "\n",
              "<div id=\"df-8568415d-95e7-482f-994d-628af60d3af7\">\n",
              "  <button class=\"colab-df-quickchart\" onclick=\"quickchart('df-8568415d-95e7-482f-994d-628af60d3af7')\"\n",
              "            title=\"Suggest charts\"\n",
              "            style=\"display:none;\">\n",
              "\n",
              "<svg xmlns=\"http://www.w3.org/2000/svg\" height=\"24px\"viewBox=\"0 0 24 24\"\n",
              "     width=\"24px\">\n",
              "    <g>\n",
              "        <path d=\"M19 3H5c-1.1 0-2 .9-2 2v14c0 1.1.9 2 2 2h14c1.1 0 2-.9 2-2V5c0-1.1-.9-2-2-2zM9 17H7v-7h2v7zm4 0h-2V7h2v10zm4 0h-2v-4h2v4z\"/>\n",
              "    </g>\n",
              "</svg>\n",
              "  </button>\n",
              "\n",
              "<style>\n",
              "  .colab-df-quickchart {\n",
              "      --bg-color: #E8F0FE;\n",
              "      --fill-color: #1967D2;\n",
              "      --hover-bg-color: #E2EBFA;\n",
              "      --hover-fill-color: #174EA6;\n",
              "      --disabled-fill-color: #AAA;\n",
              "      --disabled-bg-color: #DDD;\n",
              "  }\n",
              "\n",
              "  [theme=dark] .colab-df-quickchart {\n",
              "      --bg-color: #3B4455;\n",
              "      --fill-color: #D2E3FC;\n",
              "      --hover-bg-color: #434B5C;\n",
              "      --hover-fill-color: #FFFFFF;\n",
              "      --disabled-bg-color: #3B4455;\n",
              "      --disabled-fill-color: #666;\n",
              "  }\n",
              "\n",
              "  .colab-df-quickchart {\n",
              "    background-color: var(--bg-color);\n",
              "    border: none;\n",
              "    border-radius: 50%;\n",
              "    cursor: pointer;\n",
              "    display: none;\n",
              "    fill: var(--fill-color);\n",
              "    height: 32px;\n",
              "    padding: 0;\n",
              "    width: 32px;\n",
              "  }\n",
              "\n",
              "  .colab-df-quickchart:hover {\n",
              "    background-color: var(--hover-bg-color);\n",
              "    box-shadow: 0 1px 2px rgba(60, 64, 67, 0.3), 0 1px 3px 1px rgba(60, 64, 67, 0.15);\n",
              "    fill: var(--button-hover-fill-color);\n",
              "  }\n",
              "\n",
              "  .colab-df-quickchart-complete:disabled,\n",
              "  .colab-df-quickchart-complete:disabled:hover {\n",
              "    background-color: var(--disabled-bg-color);\n",
              "    fill: var(--disabled-fill-color);\n",
              "    box-shadow: none;\n",
              "  }\n",
              "\n",
              "  .colab-df-spinner {\n",
              "    border: 2px solid var(--fill-color);\n",
              "    border-color: transparent;\n",
              "    border-bottom-color: var(--fill-color);\n",
              "    animation:\n",
              "      spin 1s steps(1) infinite;\n",
              "  }\n",
              "\n",
              "  @keyframes spin {\n",
              "    0% {\n",
              "      border-color: transparent;\n",
              "      border-bottom-color: var(--fill-color);\n",
              "      border-left-color: var(--fill-color);\n",
              "    }\n",
              "    20% {\n",
              "      border-color: transparent;\n",
              "      border-left-color: var(--fill-color);\n",
              "      border-top-color: var(--fill-color);\n",
              "    }\n",
              "    30% {\n",
              "      border-color: transparent;\n",
              "      border-left-color: var(--fill-color);\n",
              "      border-top-color: var(--fill-color);\n",
              "      border-right-color: var(--fill-color);\n",
              "    }\n",
              "    40% {\n",
              "      border-color: transparent;\n",
              "      border-right-color: var(--fill-color);\n",
              "      border-top-color: var(--fill-color);\n",
              "    }\n",
              "    60% {\n",
              "      border-color: transparent;\n",
              "      border-right-color: var(--fill-color);\n",
              "    }\n",
              "    80% {\n",
              "      border-color: transparent;\n",
              "      border-right-color: var(--fill-color);\n",
              "      border-bottom-color: var(--fill-color);\n",
              "    }\n",
              "    90% {\n",
              "      border-color: transparent;\n",
              "      border-bottom-color: var(--fill-color);\n",
              "    }\n",
              "  }\n",
              "</style>\n",
              "\n",
              "  <script>\n",
              "    async function quickchart(key) {\n",
              "      const quickchartButtonEl =\n",
              "        document.querySelector('#' + key + ' button');\n",
              "      quickchartButtonEl.disabled = true;  // To prevent multiple clicks.\n",
              "      quickchartButtonEl.classList.add('colab-df-spinner');\n",
              "      try {\n",
              "        const charts = await google.colab.kernel.invokeFunction(\n",
              "            'suggestCharts', [key], {});\n",
              "      } catch (error) {\n",
              "        console.error('Error during call to suggestCharts:', error);\n",
              "      }\n",
              "      quickchartButtonEl.classList.remove('colab-df-spinner');\n",
              "      quickchartButtonEl.classList.add('colab-df-quickchart-complete');\n",
              "    }\n",
              "    (() => {\n",
              "      let quickchartButtonEl =\n",
              "        document.querySelector('#df-8568415d-95e7-482f-994d-628af60d3af7 button');\n",
              "      quickchartButtonEl.style.display =\n",
              "        google.colab.kernel.accessAllowed ? 'block' : 'none';\n",
              "    })();\n",
              "  </script>\n",
              "</div>\n",
              "    </div>\n",
              "  </div>\n"
            ],
            "application/vnd.google.colaboratory.intrinsic+json": {
              "type": "dataframe",
              "summary": "{\n  \"name\": \"df\",\n  \"rows\": 8,\n  \"fields\": [\n    {\n      \"column\": \"Age\",\n      \"properties\": {\n        \"dtype\": \"number\",\n        \"std\": 21.246569006032,\n        \"min\": 15.991220268730594,\n        \"max\": 77.0,\n        \"num_unique_values\": 8,\n        \"samples\": [\n          42.459016393442624,\n          39.0,\n          61.0\n        ],\n        \"semantic_type\": \"\",\n        \"description\": \"\"\n      }\n    },\n    {\n      \"column\": \"Smokes\",\n      \"properties\": {\n        \"dtype\": \"number\",\n        \"std\": 19.17177311283738,\n        \"min\": 0.0,\n        \"max\": 61.0,\n        \"num_unique_values\": 8,\n        \"samples\": [\n          15.065573770491802,\n          15.0,\n          61.0\n        ],\n        \"semantic_type\": \"\",\n        \"description\": \"\"\n      }\n    },\n    {\n      \"column\": \"AreaQ\",\n      \"properties\": {\n        \"dtype\": \"number\",\n        \"std\": 20.06478105870929,\n        \"min\": 1.0,\n        \"max\": 61.0,\n        \"num_unique_values\": 8,\n        \"samples\": [\n          5.229508196721311,\n          5.0,\n          61.0\n        ],\n        \"semantic_type\": \"\",\n        \"description\": \"\"\n      }\n    },\n    {\n      \"column\": \"Alkhol\",\n      \"properties\": {\n        \"dtype\": \"number\",\n        \"std\": 20.57358918585306,\n        \"min\": 0.0,\n        \"max\": 61.0,\n        \"num_unique_values\": 8,\n        \"samples\": [\n          3.2295081967213113,\n          3.0,\n          61.0\n        ],\n        \"semantic_type\": \"\",\n        \"description\": \"\"\n      }\n    },\n    {\n      \"column\": \"Result\",\n      \"properties\": {\n        \"dtype\": \"number\",\n        \"std\": 21.420338544379195,\n        \"min\": 0.0,\n        \"max\": 61.0,\n        \"num_unique_values\": 5,\n        \"samples\": [\n          0.47540983606557374,\n          1.0,\n          0.5035393853198635\n        ],\n        \"semantic_type\": \"\",\n        \"description\": \"\"\n      }\n    }\n  ]\n}"
            }
          },
          "metadata": {},
          "execution_count": 62
        }
      ]
    },
    {
      "cell_type": "markdown",
      "source": [
        "#### Observation:\n",
        "#### 1) Approximately 50% people who smoke are below age 40. This group smokes approximately 15 cigarettes and consumes 3 drinks a day.\n",
        "\n",
        "#### 2) One important insight, we got is that all the people who are affected by lung cancer are above age 39.\n"
      ],
      "metadata": {
        "id": "hpDnR66Brnlc"
      }
    },
    {
      "cell_type": "markdown",
      "source": [
        "#### 4-2. Plotting barplot to know distribution of age column."
      ],
      "metadata": {
        "id": "KQ2U3k7M176G"
      }
    },
    {
      "cell_type": "code",
      "source": [
        "# Creating bins and labels as age is in form of bins\n",
        "bins = [20, 30, 40, 50, 60, 70, 80, 90, 100]\n",
        "labels = ['20-29', '30-39', '40-49', '50-59', '60-69', '70-79', '80-89', '90-100']\n",
        "\n",
        "# Creating Age_Bins column\n",
        "df['Age_Bins'] = pd.cut(df['Age'], bins=bins, labels=labels, right=False)\n",
        "df[\"Age_Bins\"].value_counts().sort_index()\n",
        "value_counts_sorted = df['Age_Bins'].value_counts().sort_index()"
      ],
      "metadata": {
        "id": "NMVfOE98zENM"
      },
      "execution_count": 63,
      "outputs": []
    },
    {
      "cell_type": "code",
      "source": [
        "# Plotting bar plot\n",
        "fig = plt.figure()\n",
        "ax = fig.add_axes([0,0,1,1])\n",
        "ax.bar(value_counts_sorted.index, value_counts_sorted)\n",
        "plt.title('Frequency of Age Groups distribution in our dataset')\n",
        "plt.xlabel('Age Group')\n",
        "plt.ylabel('Frequency')\n",
        "plt.show()\n"
      ],
      "metadata": {
        "colab": {
          "base_uri": "https://localhost:8080/",
          "height": 582
        },
        "id": "KoIrwRETzLcz",
        "outputId": "8a112bc3-6de0-4a64-bf8e-84636ca60c41"
      },
      "execution_count": 64,
      "outputs": [
        {
          "output_type": "display_data",
          "data": {
            "text/plain": [
              "<Figure size 640x480 with 1 Axes>"
            ],
            "image/png": "[encoded data removed]"
          },
          "metadata": {}
        }
      ]
    },
    {
      "cell_type": "markdown",
      "source": [
        "#### Observation : Majority of the people in our dataset are from age groups 20 to 39"
      ],
      "metadata": {
        "id": "Ufe0fvLY1sQW"
      }
    },
    {
      "cell_type": "markdown",
      "source": [
        "#### 4.3 Plotting number of Cigarettes smoked by different age groups"
      ],
      "metadata": {
        "id": "02-MdtlKhKty"
      }
    },
    {
      "cell_type": "code",
      "source": [
        "plt.figure(figsize=(8, 6))\n",
        "sns.barplot(x='Age_Bins', y='Smokes', data=df, errorbar=None)\n",
        "plt.title('Number of Cigarettes Smoked by Different Age Groups')\n",
        "plt.xlabel('Age Groups')\n",
        "plt.ylabel('Number of Cigarettes Smoked')\n",
        "plt.show()\n"
      ],
      "metadata": {
        "colab": {
          "base_uri": "https://localhost:8080/",
          "height": 564
        },
        "id": "VIwgUbX1f8FH",
        "outputId": "605052fc-8ed5-4932-f32b-1f7904926a29"
      },
      "execution_count": 65,
      "outputs": [
        {
          "output_type": "display_data",
          "data": {
            "text/plain": [
              "<Figure size 800x600 with 1 Axes>"
            ],
            "image/png": "[encoded data removed]"
          },
          "metadata": {}
        }
      ]
    },
    {
      "cell_type": "markdown",
      "source": [
        "Observation : Approximately 19 cigarettes are smoked by people of age group 50 to 59"
      ],
      "metadata": {
        "id": "_IhmgnrWhejt"
      }
    },
    {
      "cell_type": "markdown",
      "source": [
        "#### 4-4 Pie chart to illustrate the distribution of daily drink consumption"
      ],
      "metadata": {
        "id": "D7GVUmry5taJ"
      }
    },
    {
      "cell_type": "code",
      "source": [
        "fig = plt.figure()\n",
        "ax = fig.add_axes([0,0,1,1])\n",
        "alk = df[\"Alkhol\"].value_counts()\n",
        "x = alk.values\n",
        "y = alk.index\n",
        "ax.pie(x, labels = y, autopct = \"%1.1f%%\")\n",
        "plt.title(\"Distribution of number of drinks per day\")\n",
        "plt.show()"
      ],
      "metadata": {
        "colab": {
          "base_uri": "https://localhost:8080/",
          "height": 539
        },
        "id": "JYuJXuRJqp4n",
        "outputId": "beadf324-cbec-4486-ceb8-490ea0c0a0e2"
      },
      "execution_count": 66,
      "outputs": [
        {
          "output_type": "display_data",
          "data": {
            "text/plain": [
              "<Figure size 640x480 with 1 Axes>"
            ],
            "image/png": "[encoded data removed]"
          },
          "metadata": {}
        }
      ]
    },
    {
      "cell_type": "markdown",
      "source": [
        "Observations : Approximately 33% people take 2 to 3 drinks per day"
      ],
      "metadata": {
        "id": "5GK2kylhBclV"
      }
    },
    {
      "cell_type": "markdown",
      "source": [
        "#### 4-5. Plotting barplot to know smoking and drinking habits"
      ],
      "metadata": {
        "id": "G3cR3jzd_f6V"
      }
    },
    {
      "cell_type": "code",
      "source": [
        "# Filter the DataFrame\n",
        "only_smoke = df[(df[\"Alkhol\"] == 0) & (df[\"Smokes\"] > 0)]\n",
        "only_drink = df[(df[\"Alkhol\"] > 0) & (df[\"Smokes\"] == 0)]\n",
        "both_smoke_drink = df[(df[\"Alkhol\"] > 0) & (df[\"Smokes\"] > 0)]\n",
        "smoke_not_drink = df[(df[\"Alkhol\"] == 0) & (df[\"Smokes\"] > 0)]\n",
        "drink_not_smoke = df[(df[\"Alkhol\"] > 0) & (df[\"Smokes\"] == 0)]\n",
        "\n",
        "# Count the number of individuals in each subset\n",
        "counts = [len(only_smoke), len(only_drink), len(both_smoke_drink), len(smoke_not_drink), len(drink_not_smoke)]\n",
        "categories = ['Only Smoke', 'Only Drink', 'Smoke and Drink', 'Smoke but not Drink', 'Drink but not Smoke']\n",
        "\n",
        "fig = plt.figure(figsize=(10,6))\n",
        "ax = fig.add_axes([0,0,1,1])\n",
        "ax.bar(categories, counts)\n",
        "plt.xlabel('Habit Category')\n",
        "plt.ylabel('Number of Individuals')\n",
        "plt.show()\n"
      ],
      "metadata": {
        "colab": {
          "base_uri": "https://localhost:8080/",
          "height": 680
        },
        "id": "mfnCaoSfqqDI",
        "outputId": "9f9a452d-2b7e-4434-87f0-a4607c07bc4e"
      },
      "execution_count": 67,
      "outputs": [
        {
          "output_type": "display_data",
          "data": {
            "text/plain": [
              "<Figure size 1000x600 with 1 Axes>"
            ],
            "image/png": "[encoded data removed]"
          },
          "metadata": {}
        }
      ]
    },
    {
      "cell_type": "markdown",
      "source": [
        "#### Observation: From our barplot, we come to know that majority of people do both smoking and drinking"
      ],
      "metadata": {
        "id": "JvmHnarpBoWX"
      }
    },
    {
      "cell_type": "markdown",
      "source": [
        "#### 4.6 Plotting histogram to explore the age distribution of individuals affected by lung cancer."
      ],
      "metadata": {
        "id": "TR3A5ZcRCVvJ"
      }
    },
    {
      "cell_type": "code",
      "source": [
        "# People with lung cancer\n",
        "lung_cancer_patients = df[df[\"Result\"] == 1]\n",
        "# Age group affected with lung cancer\n",
        "age_data = lung_cancer_patients[\"Age\"]\n",
        "\n",
        "\n",
        "fig = plt.figure(figsize=(10,6))\n",
        "plt.hist(age_data, bins = 5, edgecolor = \"black\")\n",
        "plt.xlabel('Age')\n",
        "plt.ylabel('Frequency')\n",
        "plt.show()"
      ],
      "metadata": {
        "colab": {
          "base_uri": "https://localhost:8080/",
          "height": 542
        },
        "id": "QMURUp4qqqGb",
        "outputId": "2b1734be-1cab-4c1e-a31c-f614e709a028"
      },
      "execution_count": 68,
      "outputs": [
        {
          "output_type": "display_data",
          "data": {
            "text/plain": [
              "<Figure size 1000x600 with 1 Axes>"
            ],
            "image/png": "[encoded data removed]"
          },
          "metadata": {}
        }
      ]
    },
    {
      "cell_type": "markdown",
      "source": [
        "#### Observation : Majority of people affected by Lung cancer are approximately above age 47."
      ],
      "metadata": {
        "id": "TbZgjTi2B7rM"
      }
    },
    {
      "cell_type": "markdown",
      "source": [
        "#### 4.7 Plotting Scatter plot to understand relationship between age and smoking habits for the individuals in the dataset"
      ],
      "metadata": {
        "id": "OnursxoxCRe2"
      }
    },
    {
      "cell_type": "code",
      "source": [
        "# Selecting appropriate columns\n",
        "scatter_data = df[['Age', 'Smokes']]\n",
        "\n",
        "# Plotting scatter plot\n",
        "plt.figure(figsize=(10, 6))\n",
        "plt.scatter(scatter_data['Age'], scatter_data['Smokes'])\n",
        "plt.title('Scatter Plot of Age vs. Smoking Habits')\n",
        "plt.xlabel('Age')\n",
        "plt.ylabel('Smokes')\n",
        "plt.show()\n"
      ],
      "metadata": {
        "colab": {
          "base_uri": "https://localhost:8080/",
          "height": 564
        },
        "id": "5Dk_xK0aCNwg",
        "outputId": "5222f41a-e536-4016-fd27-f560e765a2a4"
      },
      "execution_count": 69,
      "outputs": [
        {
          "output_type": "display_data",
          "data": {
            "text/plain": [
              "<Figure size 1000x600 with 1 Axes>"
            ],
            "image/png": "[encoded data removed]"
          },
          "metadata": {}
        }
      ]
    },
    {
      "cell_type": "markdown",
      "source": [
        "#### Observations:\n",
        "#### 1) There is an outlier in our dataset where a user smokes approximately 35 cigarettes at the age of 27.\n",
        "\n",
        "#### 2) Our data appears to be scattered."
      ],
      "metadata": {
        "id": "KBplAwlsDicJ"
      }
    },
    {
      "cell_type": "markdown",
      "source": [
        "#### 4.8 Plotting box plot to visually analyze the distribution  "
      ],
      "metadata": {
        "id": "emcwchFhcXcn"
      }
    },
    {
      "cell_type": "code",
      "source": [
        "plt.figure(figsize=(8, 6))\n",
        "sns.boxplot(data=df[['Age', 'Smokes']])\n",
        "plt.title('Box Plot of Age and Smokes')\n",
        "plt.xlabel('Features')\n",
        "plt.ylabel('Values')\n",
        "plt.show()"
      ],
      "metadata": {
        "colab": {
          "base_uri": "https://localhost:8080/",
          "height": 564
        },
        "id": "xwJ5docKcNbV",
        "outputId": "5cfea7ab-7efe-4018-a6c2-1260d07763b4"
      },
      "execution_count": 70,
      "outputs": [
        {
          "output_type": "display_data",
          "data": {
            "text/plain": [
              "<Figure size 800x600 with 1 Axes>"
            ],
            "image/png": "[encoded data removed]"
          },
          "metadata": {}
        }
      ]
    },
    {
      "cell_type": "markdown",
      "source": [
        "#### Observation : We plotted a box plot to visually analyze the distribution and spread of the 'Age' and 'Smokes' variables in the dataset. We were not able to see any outliers in our plot"
      ],
      "metadata": {
        "id": "crN2TWS1cwHO"
      }
    },
    {
      "cell_type": "markdown",
      "source": [
        "#### 4.9 Heatmap"
      ],
      "metadata": {
        "id": "JU7uvjYqc8DW"
      }
    },
    {
      "cell_type": "code",
      "source": [
        "# Selecting numerical columns for the heatmap\n",
        "numerical_columns = df[['Age', 'Smokes', 'AreaQ', 'Alkhol']]\n",
        "\n",
        "# Calculating the correlation matrix\n",
        "correlation_matrix = numerical_columns.corr()\n",
        "\n",
        "# Plotting the heatmap\n",
        "plt.figure(figsize=(10, 8))\n",
        "sns.heatmap(correlation_matrix, annot=True, cmap='coolwarm', fmt=\".2f\")\n",
        "plt.title('Correlation Heatmap of Numerical Columns')\n",
        "plt.show()"
      ],
      "metadata": {
        "colab": {
          "base_uri": "https://localhost:8080/",
          "height": 699
        },
        "id": "JdiszWoUCN3M",
        "outputId": "8e4ea788-f06d-45e5-fc1f-1f698d3d7c7d"
      },
      "execution_count": 71,
      "outputs": [
        {
          "output_type": "display_data",
          "data": {
            "text/plain": [
              "<Figure size 1000x800 with 2 Axes>"
            ],
            "image/png": "[encoded data removed]"
          },
          "metadata": {}
        }
      ]
    },
    {
      "cell_type": "markdown",
      "source": [
        "Observation : Heatmap shows us correlation between our numeric columns"
      ],
      "metadata": {
        "id": "e8SjPCLddCjW"
      }
    },
    {
      "cell_type": "markdown",
      "source": [
        "# 5. Polishing our data for model training"
      ],
      "metadata": {
        "id": "7aGMiVW3OOk3"
      }
    },
    {
      "cell_type": "markdown",
      "source": [
        "#### 5.1 Outlier detection and treating using Z-score"
      ],
      "metadata": {
        "id": "5lEMmDtLOywE"
      }
    },
    {
      "cell_type": "code",
      "source": [
        "# Detect outliers using z-score\n",
        "z_scores = np.abs((df[['Age', 'Smokes', 'AreaQ', 'Alkhol']] - df[['Age', 'Smokes', 'AreaQ', 'Alkhol']].mean()) / df[['Age', 'Smokes', 'AreaQ', 'Alkhol']].std())\n",
        "outliers = df[(z_scores > 3).any(axis=1)]\n",
        "\n",
        "# Treat outliers by removing them\n",
        "df_cleaned = df[(z_scores <= 3).all(axis=1)]"
      ],
      "metadata": {
        "id": "SoZHEat1LoQ3"
      },
      "execution_count": 72,
      "outputs": []
    },
    {
      "cell_type": "code",
      "source": [
        "# shape of our original dataframe\n",
        "df.shape"
      ],
      "metadata": {
        "colab": {
          "base_uri": "https://localhost:8080/"
        },
        "id": "Y5dWS4ZYLt1R",
        "outputId": "667c5a61-3255-4e4b-b422-09b7e0a8a8f1"
      },
      "execution_count": 73,
      "outputs": [
        {
          "output_type": "execute_result",
          "data": {
            "text/plain": [
              "(61, 8)"
            ]
          },
          "metadata": {},
          "execution_count": 73
        }
      ]
    },
    {
      "cell_type": "code",
      "source": [
        "# Shape after treating outliers.\n",
        "df_cleaned.shape"
      ],
      "metadata": {
        "colab": {
          "base_uri": "https://localhost:8080/"
        },
        "id": "he4ZxyD7LvR6",
        "outputId": "c1b90d08-2005-4295-995b-c309b82bc4cd"
      },
      "execution_count": 74,
      "outputs": [
        {
          "output_type": "execute_result",
          "data": {
            "text/plain": [
              "(61, 8)"
            ]
          },
          "metadata": {},
          "execution_count": 74
        }
      ]
    },
    {
      "cell_type": "markdown",
      "source": [
        "#### Observation : No outliers were detected. We found only one outlier in our  visual inspection while doing EDA which can be ignored. Outliers are not always bad"
      ],
      "metadata": {
        "id": "uJaYo0x7N2hy"
      }
    },
    {
      "cell_type": "markdown",
      "source": [
        "#### 5.2 One-Hot Encoding"
      ],
      "metadata": {
        "id": "TVqU-8VqO7gn"
      }
    },
    {
      "cell_type": "markdown",
      "source": [
        "#### We need to bring all the values of each column onto a common scale which will help us to train our model effiency. We are going to use Standarization technique for this. We have three categorical columns, hence performing one-hot encoding to convert categorical columns into numerical columns"
      ],
      "metadata": {
        "id": "cLDsccN_qRrY"
      }
    },
    {
      "cell_type": "code",
      "source": [
        "# We have three categorical columns, hence performing one-hot encoding to convert categorical columns into numerical columns\n",
        "\n",
        "# encoded_df = pd.get_dummies(df, columns=[\"Name\", \"Surname\", \"Age_Bins\"])\n",
        "\n",
        "# Droping Name and Surname columns as it not relevantlike we cannot get any insights from it.\n",
        "encoded_df = df.drop(columns=[\"Name\", \"Surname\"])\n",
        "\n",
        "# Performing one-hot encoding on Age_Bins\n",
        "encoded_df = pd.get_dummies(encoded_df, columns=[\"Age_Bins\"])\n",
        "encoded_df"
      ],
      "metadata": {
        "colab": {
          "base_uri": "https://localhost:8080/",
          "height": 424
        },
        "id": "GT_y3OSup2m5",
        "outputId": "25b3be2e-457f-406d-f4dd-7f04ab44e5ca"
      },
      "execution_count": 75,
      "outputs": [
        {
          "output_type": "execute_result",
          "data": {
            "text/plain": [
              "     Age  Smokes  AreaQ  Alkhol  Result  Age_Bins_20-29  Age_Bins_30-39  \\\n",
              "0   35.0     3.0      5     4.0       1           False            True   \n",
              "1   27.0    20.0      2     5.0       1            True           False   \n",
              "2   30.0     0.0      5     2.0       0           False            True   \n",
              "3   28.0     0.0      8     1.0       0            True           False   \n",
              "4   68.0     4.0      5     6.0       1           False           False   \n",
              "..   ...     ...    ...     ...     ...             ...             ...   \n",
              "56  75.0    15.0      3     5.0       1           False           False   \n",
              "57  43.0    30.0      3     8.0       1           False           False   \n",
              "58  51.0    25.0      9     0.0       0           False           False   \n",
              "59  36.0    15.0      7     3.0       1           False            True   \n",
              "60  39.0    15.0      5     3.0       0           False            True   \n",
              "\n",
              "    Age_Bins_40-49  Age_Bins_50-59  Age_Bins_60-69  Age_Bins_70-79  \\\n",
              "0            False           False           False           False   \n",
              "1            False           False           False           False   \n",
              "2            False           False           False           False   \n",
              "3            False           False           False           False   \n",
              "4            False           False            True           False   \n",
              "..             ...             ...             ...             ...   \n",
              "56           False           False           False            True   \n",
              "57            True           False           False           False   \n",
              "58           False            True           False           False   \n",
              "59           False           False           False           False   \n",
              "60           False           False           False           False   \n",
              "\n",
              "    Age_Bins_80-89  Age_Bins_90-100  \n",
              "0            False            False  \n",
              "1            False            False  \n",
              "2            False            False  \n",
              "3            False            False  \n",
              "4            False            False  \n",
              "..             ...              ...  \n",
              "56           False            False  \n",
              "57           False            False  \n",
              "58           False            False  \n",
              "59           False            False  \n",
              "60           False            False  \n",
              "\n",
              "[61 rows x 13 columns]"
            ],
            "text/html": [
              "\n",
              "  <div id=\"df-a649802f-15da-4684-9291-e3a916f9c320\" class=\"colab-df-container\">\n",
              "    <div>\n",
              "<style scoped>\n",
              "    .dataframe tbody tr th:only-of-type {\n",
              "        vertical-align: middle;\n",
              "    }\n",
              "\n",
              "    .dataframe tbody tr th {\n",
              "        vertical-align: top;\n",
              "    }\n",
              "\n",
              "    .dataframe thead th {\n",
              "        text-align: right;\n",
              "    }\n",
              "</style>\n",
              "<table border=\"1\" class=\"dataframe\">\n",
              "  <thead>\n",
              "    <tr style=\"text-align: right;\">\n",
              "      <th></th>\n",
              "      <th>Age</th>\n",
              "      <th>Smokes</th>\n",
              "      <th>AreaQ</th>\n",
              "      <th>Alkhol</th>\n",
              "      <th>Result</th>\n",
              "      <th>Age_Bins_20-29</th>\n",
              "      <th>Age_Bins_30-39</th>\n",
              "      <th>Age_Bins_40-49</th>\n",
              "      <th>Age_Bins_50-59</th>\n",
              "      <th>Age_Bins_60-69</th>\n",
              "      <th>Age_Bins_70-79</th>\n",
              "      <th>Age_Bins_80-89</th>\n",
              "      <th>Age_Bins_90-100</th>\n",
              "    </tr>\n",
              "  </thead>\n",
              "  <tbody>\n",
              "    <tr>\n",
              "      <th>0</th>\n",
              "      <td>35.0</td>\n",
              "      <td>3.0</td>\n",
              "      <td>5</td>\n",
              "      <td>4.0</td>\n",
              "      <td>1</td>\n",
              "      <td>False</td>\n",
              "      <td>True</td>\n",
              "      <td>False</td>\n",
              "      <td>False</td>\n",
              "      <td>False</td>\n",
              "      <td>False</td>\n",
              "      <td>False</td>\n",
              "      <td>False</td>\n",
              "    </tr>\n",
              "    <tr>\n",
              "      <th>1</th>\n",
              "      <td>27.0</td>\n",
              "      <td>20.0</td>\n",
              "      <td>2</td>\n",
              "      <td>5.0</td>\n",
              "      <td>1</td>\n",
              "      <td>True</td>\n",
              "      <td>False</td>\n",
              "      <td>False</td>\n",
              "      <td>False</td>\n",
              "      <td>False</td>\n",
              "      <td>False</td>\n",
              "      <td>False</td>\n",
              "      <td>False</td>\n",
              "    </tr>\n",
              "    <tr>\n",
              "      <th>2</th>\n",
              "      <td>30.0</td>\n",
              "      <td>0.0</td>\n",
              "      <td>5</td>\n",
              "      <td>2.0</td>\n",
              "      <td>0</td>\n",
              "      <td>False</td>\n",
              "      <td>True</td>\n",
              "      <td>False</td>\n",
              "      <td>False</td>\n",
              "      <td>False</td>\n",
              "      <td>False</td>\n",
              "      <td>False</td>\n",
              "      <td>False</td>\n",
              "    </tr>\n",
              "    <tr>\n",
              "      <th>3</th>\n",
              "      <td>28.0</td>\n",
              "      <td>0.0</td>\n",
              "      <td>8</td>\n",
              "      <td>1.0</td>\n",
              "      <td>0</td>\n",
              "      <td>True</td>\n",
              "      <td>False</td>\n",
              "      <td>False</td>\n",
              "      <td>False</td>\n",
              "      <td>False</td>\n",
              "      <td>False</td>\n",
              "      <td>False</td>\n",
              "      <td>False</td>\n",
              "    </tr>\n",
              "    <tr>\n",
              "      <th>4</th>\n",
              "      <td>68.0</td>\n",
              "      <td>4.0</td>\n",
              "      <td>5</td>\n",
              "      <td>6.0</td>\n",
              "      <td>1</td>\n",
              "      <td>False</td>\n",
              "      <td>False</td>\n",
              "      <td>False</td>\n",
              "      <td>False</td>\n",
              "      <td>True</td>\n",
              "      <td>False</td>\n",
              "      <td>False</td>\n",
              "      <td>False</td>\n",
              "    </tr>\n",
              "    <tr>\n",
              "      <th>...</th>\n",
              "      <td>...</td>\n",
              "      <td>...</td>\n",
              "      <td>...</td>\n",
              "      <td>...</td>\n",
              "      <td>...</td>\n",
              "      <td>...</td>\n",
              "      <td>...</td>\n",
              "      <td>...</td>\n",
              "      <td>...</td>\n",
              "      <td>...</td>\n",
              "      <td>...</td>\n",
              "      <td>...</td>\n",
              "      <td>...</td>\n",
              "    </tr>\n",
              "    <tr>\n",
              "      <th>56</th>\n",
              "      <td>75.0</td>\n",
              "      <td>15.0</td>\n",
              "      <td>3</td>\n",
              "      <td>5.0</td>\n",
              "      <td>1</td>\n",
              "      <td>False</td>\n",
              "      <td>False</td>\n",
              "      <td>False</td>\n",
              "      <td>False</td>\n",
              "      <td>False</td>\n",
              "      <td>True</td>\n",
              "      <td>False</td>\n",
              "      <td>False</td>\n",
              "    </tr>\n",
              "    <tr>\n",
              "      <th>57</th>\n",
              "      <td>43.0</td>\n",
              "      <td>30.0</td>\n",
              "      <td>3</td>\n",
              "      <td>8.0</td>\n",
              "      <td>1</td>\n",
              "      <td>False</td>\n",
              "      <td>False</td>\n",
              "      <td>True</td>\n",
              "      <td>False</td>\n",
              "      <td>False</td>\n",
              "      <td>False</td>\n",
              "      <td>False</td>\n",
              "      <td>False</td>\n",
              "    </tr>\n",
              "    <tr>\n",
              "      <th>58</th>\n",
              "      <td>51.0</td>\n",
              "      <td>25.0</td>\n",
              "      <td>9</td>\n",
              "      <td>0.0</td>\n",
              "      <td>0</td>\n",
              "      <td>False</td>\n",
              "      <td>False</td>\n",
              "      <td>False</td>\n",
              "      <td>True</td>\n",
              "      <td>False</td>\n",
              "      <td>False</td>\n",
              "      <td>False</td>\n",
              "      <td>False</td>\n",
              "    </tr>\n",
              "    <tr>\n",
              "      <th>59</th>\n",
              "      <td>36.0</td>\n",
              "      <td>15.0</td>\n",
              "      <td>7</td>\n",
              "      <td>3.0</td>\n",
              "      <td>1</td>\n",
              "      <td>False</td>\n",
              "      <td>True</td>\n",
              "      <td>False</td>\n",
              "      <td>False</td>\n",
              "      <td>False</td>\n",
              "      <td>False</td>\n",
              "      <td>False</td>\n",
              "      <td>False</td>\n",
              "    </tr>\n",
              "    <tr>\n",
              "      <th>60</th>\n",
              "      <td>39.0</td>\n",
              "      <td>15.0</td>\n",
              "      <td>5</td>\n",
              "      <td>3.0</td>\n",
              "      <td>0</td>\n",
              "      <td>False</td>\n",
              "      <td>True</td>\n",
              "      <td>False</td>\n",
              "      <td>False</td>\n",
              "      <td>False</td>\n",
              "      <td>False</td>\n",
              "      <td>False</td>\n",
              "      <td>False</td>\n",
              "    </tr>\n",
              "  </tbody>\n",
              "</table>\n",
              "<p>61 rows × 13 columns</p>\n",
              "</div>\n",
              "    <div class=\"colab-df-buttons\">\n",
              "\n",
              "  <div class=\"colab-df-container\">\n",
              "    <button class=\"colab-df-convert\" onclick=\"convertToInteractive('df-a649802f-15da-4684-9291-e3a916f9c320')\"\n",
              "            title=\"Convert this dataframe to an interactive table.\"\n",
              "            style=\"display:none;\">\n",
              "\n",
              "  <svg xmlns=\"http://www.w3.org/2000/svg\" height=\"24px\" viewBox=\"0 -960 960 960\">\n",
              "    <path d=\"M120-120v-720h720v720H120Zm60-500h600v-160H180v160Zm220 220h160v-160H400v160Zm0 220h160v-160H400v160ZM180-400h160v-160H180v160Zm440 0h160v-160H620v160ZM180-180h160v-160H180v160Zm440 0h160v-160H620v160Z\"/>\n",
              "  </svg>\n",
              "    </button>\n",
              "\n",
              "  <style>\n",
              "    .colab-df-container {\n",
              "      display:flex;\n",
              "      gap: 12px;\n",
              "    }\n",
              "\n",
              "    .colab-df-convert {\n",
              "      background-color: #E8F0FE;\n",
              "      border: none;\n",
              "      border-radius: 50%;\n",
              "      cursor: pointer;\n",
              "      display: none;\n",
              "      fill: #1967D2;\n",
              "      height: 32px;\n",
              "      padding: 0 0 0 0;\n",
              "      width: 32px;\n",
              "    }\n",
              "\n",
              "    .colab-df-convert:hover {\n",
              "      background-color: #E2EBFA;\n",
              "      box-shadow: 0px 1px 2px rgba(60, 64, 67, 0.3), 0px 1px 3px 1px rgba(60, 64, 67, 0.15);\n",
              "      fill: #174EA6;\n",
              "    }\n",
              "\n",
              "    .colab-df-buttons div {\n",
              "      margin-bottom: 4px;\n",
              "    }\n",
              "\n",
              "    [theme=dark] .colab-df-convert {\n",
              "      background-color: #3B4455;\n",
              "      fill: #D2E3FC;\n",
              "    }\n",
              "\n",
              "    [theme=dark] .colab-df-convert:hover {\n",
              "      background-color: #434B5C;\n",
              "      box-shadow: 0px 1px 3px 1px rgba(0, 0, 0, 0.15);\n",
              "      filter: drop-shadow(0px 1px 2px rgba(0, 0, 0, 0.3));\n",
              "      fill: #FFFFFF;\n",
              "    }\n",
              "  </style>\n",
              "\n",
              "    <script>\n",
              "      const buttonEl =\n",
              "        document.querySelector('#df-a649802f-15da-4684-9291-e3a916f9c320 button.colab-df-convert');\n",
              "      buttonEl.style.display =\n",
              "        google.colab.kernel.accessAllowed ? 'block' : 'none';\n",
              "\n",
              "      async function convertToInteractive(key) {\n",
              "        const element = document.querySelector('#df-a649802f-15da-4684-9291-e3a916f9c320');\n",
              "        const dataTable =\n",
              "          await google.colab.kernel.invokeFunction('convertToInteractive',\n",
              "                                                    [key], {});\n",
              "        if (!dataTable) return;\n",
              "\n",
              "        const docLinkHtml = 'Like what you see? Visit the ' +\n",
              "          '<a target=\"_blank\" href=https://colab.research.google.com/notebooks/data_table.ipynb>data table notebook</a>'\n",
              "          + ' to learn more about interactive tables.';\n",
              "        element.innerHTML = '';\n",
              "        dataTable['output_type'] = 'display_data';\n",
              "        await google.colab.output.renderOutput(dataTable, element);\n",
              "        const docLink = document.createElement('div');\n",
              "        docLink.innerHTML = docLinkHtml;\n",
              "        element.appendChild(docLink);\n",
              "      }\n",
              "    </script>\n",
              "  </div>\n",
              "\n",
              "\n",
              "<div id=\"df-e0e50337-70b0-4fe9-92b4-b97c7633728e\">\n",
              "  <button class=\"colab-df-quickchart\" onclick=\"quickchart('df-e0e50337-70b0-4fe9-92b4-b97c7633728e')\"\n",
              "            title=\"Suggest charts\"\n",
              "            style=\"display:none;\">\n",
              "\n",
              "<svg xmlns=\"http://www.w3.org/2000/svg\" height=\"24px\"viewBox=\"0 0 24 24\"\n",
              "     width=\"24px\">\n",
              "    <g>\n",
              "        <path d=\"M19 3H5c-1.1 0-2 .9-2 2v14c0 1.1.9 2 2 2h14c1.1 0 2-.9 2-2V5c0-1.1-.9-2-2-2zM9 17H7v-7h2v7zm4 0h-2V7h2v10zm4 0h-2v-4h2v4z\"/>\n",
              "    </g>\n",
              "</svg>\n",
              "  </button>\n",
              "\n",
              "<style>\n",
              "  .colab-df-quickchart {\n",
              "      --bg-color: #E8F0FE;\n",
              "      --fill-color: #1967D2;\n",
              "      --hover-bg-color: #E2EBFA;\n",
              "      --hover-fill-color: #174EA6;\n",
              "      --disabled-fill-color: #AAA;\n",
              "      --disabled-bg-color: #DDD;\n",
              "  }\n",
              "\n",
              "  [theme=dark] .colab-df-quickchart {\n",
              "      --bg-color: #3B4455;\n",
              "      --fill-color: #D2E3FC;\n",
              "      --hover-bg-color: #434B5C;\n",
              "      --hover-fill-color: #FFFFFF;\n",
              "      --disabled-bg-color: #3B4455;\n",
              "      --disabled-fill-color: #666;\n",
              "  }\n",
              "\n",
              "  .colab-df-quickchart {\n",
              "    background-color: var(--bg-color);\n",
              "    border: none;\n",
              "    border-radius: 50%;\n",
              "    cursor: pointer;\n",
              "    display: none;\n",
              "    fill: var(--fill-color);\n",
              "    height: 32px;\n",
              "    padding: 0;\n",
              "    width: 32px;\n",
              "  }\n",
              "\n",
              "  .colab-df-quickchart:hover {\n",
              "    background-color: var(--hover-bg-color);\n",
              "    box-shadow: 0 1px 2px rgba(60, 64, 67, 0.3), 0 1px 3px 1px rgba(60, 64, 67, 0.15);\n",
              "    fill: var(--button-hover-fill-color);\n",
              "  }\n",
              "\n",
              "  .colab-df-quickchart-complete:disabled,\n",
              "  .colab-df-quickchart-complete:disabled:hover {\n",
              "    background-color: var(--disabled-bg-color);\n",
              "    fill: var(--disabled-fill-color);\n",
              "    box-shadow: none;\n",
              "  }\n",
              "\n",
              "  .colab-df-spinner {\n",
              "    border: 2px solid var(--fill-color);\n",
              "    border-color: transparent;\n",
              "    border-bottom-color: var(--fill-color);\n",
              "    animation:\n",
              "      spin 1s steps(1) infinite;\n",
              "  }\n",
              "\n",
              "  @keyframes spin {\n",
              "    0% {\n",
              "      border-color: transparent;\n",
              "      border-bottom-color: var(--fill-color);\n",
              "      border-left-color: var(--fill-color);\n",
              "    }\n",
              "    20% {\n",
              "      border-color: transparent;\n",
              "      border-left-color: var(--fill-color);\n",
              "      border-top-color: var(--fill-color);\n",
              "    }\n",
              "    30% {\n",
              "      border-color: transparent;\n",
              "      border-left-color: var(--fill-color);\n",
              "      border-top-color: var(--fill-color);\n",
              "      border-right-color: var(--fill-color);\n",
              "    }\n",
              "    40% {\n",
              "      border-color: transparent;\n",
              "      border-right-color: var(--fill-color);\n",
              "      border-top-color: var(--fill-color);\n",
              "    }\n",
              "    60% {\n",
              "      border-color: transparent;\n",
              "      border-right-color: var(--fill-color);\n",
              "    }\n",
              "    80% {\n",
              "      border-color: transparent;\n",
              "      border-right-color: var(--fill-color);\n",
              "      border-bottom-color: var(--fill-color);\n",
              "    }\n",
              "    90% {\n",
              "      border-color: transparent;\n",
              "      border-bottom-color: var(--fill-color);\n",
              "    }\n",
              "  }\n",
              "</style>\n",
              "\n",
              "  <script>\n",
              "    async function quickchart(key) {\n",
              "      const quickchartButtonEl =\n",
              "        document.querySelector('#' + key + ' button');\n",
              "      quickchartButtonEl.disabled = true;  // To prevent multiple clicks.\n",
              "      quickchartButtonEl.classList.add('colab-df-spinner');\n",
              "      try {\n",
              "        const charts = await google.colab.kernel.invokeFunction(\n",
              "            'suggestCharts', [key], {});\n",
              "      } catch (error) {\n",
              "        console.error('Error during call to suggestCharts:', error);\n",
              "      }\n",
              "      quickchartButtonEl.classList.remove('colab-df-spinner');\n",
              "      quickchartButtonEl.classList.add('colab-df-quickchart-complete');\n",
              "    }\n",
              "    (() => {\n",
              "      let quickchartButtonEl =\n",
              "        document.querySelector('#df-e0e50337-70b0-4fe9-92b4-b97c7633728e button');\n",
              "      quickchartButtonEl.style.display =\n",
              "        google.colab.kernel.accessAllowed ? 'block' : 'none';\n",
              "    })();\n",
              "  </script>\n",
              "</div>\n",
              "    </div>\n",
              "  </div>\n"
            ],
            "application/vnd.google.colaboratory.intrinsic+json": {
              "type": "dataframe",
              "variable_name": "encoded_df",
              "summary": "{\n  \"name\": \"encoded_df\",\n  \"rows\": 61,\n  \"fields\": [\n    {\n      \"column\": \"Age\",\n      \"properties\": {\n        \"dtype\": \"number\",\n        \"std\": 15.991220268730594,\n        \"min\": 18.0,\n        \"max\": 77.0,\n        \"num_unique_values\": 37,\n        \"samples\": [\n          73.0,\n          39.0,\n          68.0\n        ],\n        \"semantic_type\": \"\",\n        \"description\": \"\"\n      }\n    },\n    {\n      \"column\": \"Smokes\",\n      \"properties\": {\n        \"dtype\": \"number\",\n        \"std\": 7.8504115655571765,\n        \"min\": 0.0,\n        \"max\": 34.0,\n        \"num_unique_values\": 16,\n        \"samples\": [\n          3.0,\n          20.0,\n          12.0\n        ],\n        \"semantic_type\": \"\",\n        \"description\": \"\"\n      }\n    },\n    {\n      \"column\": \"AreaQ\",\n      \"properties\": {\n        \"dtype\": \"number\",\n        \"std\": 2,\n        \"min\": 1,\n        \"max\": 10,\n        \"num_unique_values\": 10,\n        \"samples\": [\n          1,\n          2,\n          4\n        ],\n        \"semantic_type\": \"\",\n        \"description\": \"\"\n      }\n    },\n    {\n      \"column\": \"Alkhol\",\n      \"properties\": {\n        \"dtype\": \"number\",\n        \"std\": 2.3408932954675716,\n        \"min\": 0.0,\n        \"max\": 8.0,\n        \"num_unique_values\": 9,\n        \"samples\": [\n          8.0,\n          5.0,\n          0.0\n        ],\n        \"semantic_type\": \"\",\n        \"description\": \"\"\n      }\n    },\n    {\n      \"column\": \"Result\",\n      \"properties\": {\n        \"dtype\": \"number\",\n        \"std\": 0,\n        \"min\": 0,\n        \"max\": 1,\n        \"num_unique_values\": 2,\n        \"samples\": [\n          0,\n          1\n        ],\n        \"semantic_type\": \"\",\n        \"description\": \"\"\n      }\n    },\n    {\n      \"column\": \"Age_Bins_20-29\",\n      \"properties\": {\n        \"dtype\": \"boolean\",\n        \"num_unique_values\": 2,\n        \"samples\": [\n          true,\n          false\n        ],\n        \"semantic_type\": \"\",\n        \"description\": \"\"\n      }\n    },\n    {\n      \"column\": \"Age_Bins_30-39\",\n      \"properties\": {\n        \"dtype\": \"boolean\",\n        \"num_unique_values\": 2,\n        \"samples\": [\n          false,\n          true\n        ],\n        \"semantic_type\": \"\",\n        \"description\": \"\"\n      }\n    },\n    {\n      \"column\": \"Age_Bins_40-49\",\n      \"properties\": {\n        \"dtype\": \"boolean\",\n        \"num_unique_values\": 2,\n        \"samples\": [\n          true,\n          false\n        ],\n        \"semantic_type\": \"\",\n        \"description\": \"\"\n      }\n    },\n    {\n      \"column\": \"Age_Bins_50-59\",\n      \"properties\": {\n        \"dtype\": \"boolean\",\n        \"num_unique_values\": 2,\n        \"samples\": [\n          true,\n          false\n        ],\n        \"semantic_type\": \"\",\n        \"description\": \"\"\n      }\n    },\n    {\n      \"column\": \"Age_Bins_60-69\",\n      \"properties\": {\n        \"dtype\": \"boolean\",\n        \"num_unique_values\": 2,\n        \"samples\": [\n          true,\n          false\n        ],\n        \"semantic_type\": \"\",\n        \"description\": \"\"\n      }\n    },\n    {\n      \"column\": \"Age_Bins_70-79\",\n      \"properties\": {\n        \"dtype\": \"boolean\",\n        \"num_unique_values\": 2,\n        \"samples\": [\n          true,\n          false\n        ],\n        \"semantic_type\": \"\",\n        \"description\": \"\"\n      }\n    },\n    {\n      \"column\": \"Age_Bins_80-89\",\n      \"properties\": {\n        \"dtype\": \"boolean\",\n        \"num_unique_values\": 1,\n        \"samples\": [\n          false\n        ],\n        \"semantic_type\": \"\",\n        \"description\": \"\"\n      }\n    },\n    {\n      \"column\": \"Age_Bins_90-100\",\n      \"properties\": {\n        \"dtype\": \"boolean\",\n        \"num_unique_values\": 1,\n        \"samples\": [\n          false\n        ],\n        \"semantic_type\": \"\",\n        \"description\": \"\"\n      }\n    }\n  ]\n}"
            }
          },
          "metadata": {},
          "execution_count": 75
        }
      ]
    },
    {
      "cell_type": "code",
      "source": [
        "# One-Hot Encoding result\n",
        "encoded_df.head()"
      ],
      "metadata": {
        "colab": {
          "base_uri": "https://localhost:8080/",
          "height": 206
        },
        "id": "4PlSPUwPJ8n1",
        "outputId": "5822c146-ea9b-48c7-8946-6a1fcf08720c"
      },
      "execution_count": 76,
      "outputs": [
        {
          "output_type": "execute_result",
          "data": {
            "text/plain": [
              "    Age  Smokes  AreaQ  Alkhol  Result  Age_Bins_20-29  Age_Bins_30-39  \\\n",
              "0  35.0     3.0      5     4.0       1           False            True   \n",
              "1  27.0    20.0      2     5.0       1            True           False   \n",
              "2  30.0     0.0      5     2.0       0           False            True   \n",
              "3  28.0     0.0      8     1.0       0            True           False   \n",
              "4  68.0     4.0      5     6.0       1           False           False   \n",
              "\n",
              "   Age_Bins_40-49  Age_Bins_50-59  Age_Bins_60-69  Age_Bins_70-79  \\\n",
              "0           False           False           False           False   \n",
              "1           False           False           False           False   \n",
              "2           False           False           False           False   \n",
              "3           False           False           False           False   \n",
              "4           False           False            True           False   \n",
              "\n",
              "   Age_Bins_80-89  Age_Bins_90-100  \n",
              "0           False            False  \n",
              "1           False            False  \n",
              "2           False            False  \n",
              "3           False            False  \n",
              "4           False            False  "
            ],
            "text/html": [
              "\n",
              "  <div id=\"df-3f94bc8c-a24f-4e28-9e1a-eac8dc0ca338\" class=\"colab-df-container\">\n",
              "    <div>\n",
              "<style scoped>\n",
              "    .dataframe tbody tr th:only-of-type {\n",
              "        vertical-align: middle;\n",
              "    }\n",
              "\n",
              "    .dataframe tbody tr th {\n",
              "        vertical-align: top;\n",
              "    }\n",
              "\n",
              "    .dataframe thead th {\n",
              "        text-align: right;\n",
              "    }\n",
              "</style>\n",
              "<table border=\"1\" class=\"dataframe\">\n",
              "  <thead>\n",
              "    <tr style=\"text-align: right;\">\n",
              "      <th></th>\n",
              "      <th>Age</th>\n",
              "      <th>Smokes</th>\n",
              "      <th>AreaQ</th>\n",
              "      <th>Alkhol</th>\n",
              "      <th>Result</th>\n",
              "      <th>Age_Bins_20-29</th>\n",
              "      <th>Age_Bins_30-39</th>\n",
              "      <th>Age_Bins_40-49</th>\n",
              "      <th>Age_Bins_50-59</th>\n",
              "      <th>Age_Bins_60-69</th>\n",
              "      <th>Age_Bins_70-79</th>\n",
              "      <th>Age_Bins_80-89</th>\n",
              "      <th>Age_Bins_90-100</th>\n",
              "    </tr>\n",
              "  </thead>\n",
              "  <tbody>\n",
              "    <tr>\n",
              "      <th>0</th>\n",
              "      <td>35.0</td>\n",
              "      <td>3.0</td>\n",
              "      <td>5</td>\n",
              "      <td>4.0</td>\n",
              "      <td>1</td>\n",
              "      <td>False</td>\n",
              "      <td>True</td>\n",
              "      <td>False</td>\n",
              "      <td>False</td>\n",
              "      <td>False</td>\n",
              "      <td>False</td>\n",
              "      <td>False</td>\n",
              "      <td>False</td>\n",
              "    </tr>\n",
              "    <tr>\n",
              "      <th>1</th>\n",
              "      <td>27.0</td>\n",
              "      <td>20.0</td>\n",
              "      <td>2</td>\n",
              "      <td>5.0</td>\n",
              "      <td>1</td>\n",
              "      <td>True</td>\n",
              "      <td>False</td>\n",
              "      <td>False</td>\n",
              "      <td>False</td>\n",
              "      <td>False</td>\n",
              "      <td>False</td>\n",
              "      <td>False</td>\n",
              "      <td>False</td>\n",
              "    </tr>\n",
              "    <tr>\n",
              "      <th>2</th>\n",
              "      <td>30.0</td>\n",
              "      <td>0.0</td>\n",
              "      <td>5</td>\n",
              "      <td>2.0</td>\n",
              "      <td>0</td>\n",
              "      <td>False</td>\n",
              "      <td>True</td>\n",
              "      <td>False</td>\n",
              "      <td>False</td>\n",
              "      <td>False</td>\n",
              "      <td>False</td>\n",
              "      <td>False</td>\n",
              "      <td>False</td>\n",
              "    </tr>\n",
              "    <tr>\n",
              "      <th>3</th>\n",
              "      <td>28.0</td>\n",
              "      <td>0.0</td>\n",
              "      <td>8</td>\n",
              "      <td>1.0</td>\n",
              "      <td>0</td>\n",
              "      <td>True</td>\n",
              "      <td>False</td>\n",
              "      <td>False</td>\n",
              "      <td>False</td>\n",
              "      <td>False</td>\n",
              "      <td>False</td>\n",
              "      <td>False</td>\n",
              "      <td>False</td>\n",
              "    </tr>\n",
              "    <tr>\n",
              "      <th>4</th>\n",
              "      <td>68.0</td>\n",
              "      <td>4.0</td>\n",
              "      <td>5</td>\n",
              "      <td>6.0</td>\n",
              "      <td>1</td>\n",
              "      <td>False</td>\n",
              "      <td>False</td>\n",
              "      <td>False</td>\n",
              "      <td>False</td>\n",
              "      <td>True</td>\n",
              "      <td>False</td>\n",
              "      <td>False</td>\n",
              "      <td>False</td>\n",
              "    </tr>\n",
              "  </tbody>\n",
              "</table>\n",
              "</div>\n",
              "    <div class=\"colab-df-buttons\">\n",
              "\n",
              "  <div class=\"colab-df-container\">\n",
              "    <button class=\"colab-df-convert\" onclick=\"convertToInteractive('df-3f94bc8c-a24f-4e28-9e1a-eac8dc0ca338')\"\n",
              "            title=\"Convert this dataframe to an interactive table.\"\n",
              "            style=\"display:none;\">\n",
              "\n",
              "  <svg xmlns=\"http://www.w3.org/2000/svg\" height=\"24px\" viewBox=\"0 -960 960 960\">\n",
              "    <path d=\"M120-120v-720h720v720H120Zm60-500h600v-160H180v160Zm220 220h160v-160H400v160Zm0 220h160v-160H400v160ZM180-400h160v-160H180v160Zm440 0h160v-160H620v160ZM180-180h160v-160H180v160Zm440 0h160v-160H620v160Z\"/>\n",
              "  </svg>\n",
              "    </button>\n",
              "\n",
              "  <style>\n",
              "    .colab-df-container {\n",
              "      display:flex;\n",
              "      gap: 12px;\n",
              "    }\n",
              "\n",
              "    .colab-df-convert {\n",
              "      background-color: #E8F0FE;\n",
              "      border: none;\n",
              "      border-radius: 50%;\n",
              "      cursor: pointer;\n",
              "      display: none;\n",
              "      fill: #1967D2;\n",
              "      height: 32px;\n",
              "      padding: 0 0 0 0;\n",
              "      width: 32px;\n",
              "    }\n",
              "\n",
              "    .colab-df-convert:hover {\n",
              "      background-color: #E2EBFA;\n",
              "      box-shadow: 0px 1px 2px rgba(60, 64, 67, 0.3), 0px 1px 3px 1px rgba(60, 64, 67, 0.15);\n",
              "      fill: #174EA6;\n",
              "    }\n",
              "\n",
              "    .colab-df-buttons div {\n",
              "      margin-bottom: 4px;\n",
              "    }\n",
              "\n",
              "    [theme=dark] .colab-df-convert {\n",
              "      background-color: #3B4455;\n",
              "      fill: #D2E3FC;\n",
              "    }\n",
              "\n",
              "    [theme=dark] .colab-df-convert:hover {\n",
              "      background-color: #434B5C;\n",
              "      box-shadow: 0px 1px 3px 1px rgba(0, 0, 0, 0.15);\n",
              "      filter: drop-shadow(0px 1px 2px rgba(0, 0, 0, 0.3));\n",
              "      fill: #FFFFFF;\n",
              "    }\n",
              "  </style>\n",
              "\n",
              "    <script>\n",
              "      const buttonEl =\n",
              "        document.querySelector('#df-3f94bc8c-a24f-4e28-9e1a-eac8dc0ca338 button.colab-df-convert');\n",
              "      buttonEl.style.display =\n",
              "        google.colab.kernel.accessAllowed ? 'block' : 'none';\n",
              "\n",
              "      async function convertToInteractive(key) {\n",
              "        const element = document.querySelector('#df-3f94bc8c-a24f-4e28-9e1a-eac8dc0ca338');\n",
              "        const dataTable =\n",
              "          await google.colab.kernel.invokeFunction('convertToInteractive',\n",
              "                                                    [key], {});\n",
              "        if (!dataTable) return;\n",
              "\n",
              "        const docLinkHtml = 'Like what you see? Visit the ' +\n",
              "          '<a target=\"_blank\" href=https://colab.research.google.com/notebooks/data_table.ipynb>data table notebook</a>'\n",
              "          + ' to learn more about interactive tables.';\n",
              "        element.innerHTML = '';\n",
              "        dataTable['output_type'] = 'display_data';\n",
              "        await google.colab.output.renderOutput(dataTable, element);\n",
              "        const docLink = document.createElement('div');\n",
              "        docLink.innerHTML = docLinkHtml;\n",
              "        element.appendChild(docLink);\n",
              "      }\n",
              "    </script>\n",
              "  </div>\n",
              "\n",
              "\n",
              "<div id=\"df-51151305-b864-4f5a-8b13-26bda0e5e1ab\">\n",
              "  <button class=\"colab-df-quickchart\" onclick=\"quickchart('df-51151305-b864-4f5a-8b13-26bda0e5e1ab')\"\n",
              "            title=\"Suggest charts\"\n",
              "            style=\"display:none;\">\n",
              "\n",
              "<svg xmlns=\"http://www.w3.org/2000/svg\" height=\"24px\"viewBox=\"0 0 24 24\"\n",
              "     width=\"24px\">\n",
              "    <g>\n",
              "        <path d=\"M19 3H5c-1.1 0-2 .9-2 2v14c0 1.1.9 2 2 2h14c1.1 0 2-.9 2-2V5c0-1.1-.9-2-2-2zM9 17H7v-7h2v7zm4 0h-2V7h2v10zm4 0h-2v-4h2v4z\"/>\n",
              "    </g>\n",
              "</svg>\n",
              "  </button>\n",
              "\n",
              "<style>\n",
              "  .colab-df-quickchart {\n",
              "      --bg-color: #E8F0FE;\n",
              "      --fill-color: #1967D2;\n",
              "      --hover-bg-color: #E2EBFA;\n",
              "      --hover-fill-color: #174EA6;\n",
              "      --disabled-fill-color: #AAA;\n",
              "      --disabled-bg-color: #DDD;\n",
              "  }\n",
              "\n",
              "  [theme=dark] .colab-df-quickchart {\n",
              "      --bg-color: #3B4455;\n",
              "      --fill-color: #D2E3FC;\n",
              "      --hover-bg-color: #434B5C;\n",
              "      --hover-fill-color: #FFFFFF;\n",
              "      --disabled-bg-color: #3B4455;\n",
              "      --disabled-fill-color: #666;\n",
              "  }\n",
              "\n",
              "  .colab-df-quickchart {\n",
              "    background-color: var(--bg-color);\n",
              "    border: none;\n",
              "    border-radius: 50%;\n",
              "    cursor: pointer;\n",
              "    display: none;\n",
              "    fill: var(--fill-color);\n",
              "    height: 32px;\n",
              "    padding: 0;\n",
              "    width: 32px;\n",
              "  }\n",
              "\n",
              "  .colab-df-quickchart:hover {\n",
              "    background-color: var(--hover-bg-color);\n",
              "    box-shadow: 0 1px 2px rgba(60, 64, 67, 0.3), 0 1px 3px 1px rgba(60, 64, 67, 0.15);\n",
              "    fill: var(--button-hover-fill-color);\n",
              "  }\n",
              "\n",
              "  .colab-df-quickchart-complete:disabled,\n",
              "  .colab-df-quickchart-complete:disabled:hover {\n",
              "    background-color: var(--disabled-bg-color);\n",
              "    fill: var(--disabled-fill-color);\n",
              "    box-shadow: none;\n",
              "  }\n",
              "\n",
              "  .colab-df-spinner {\n",
              "    border: 2px solid var(--fill-color);\n",
              "    border-color: transparent;\n",
              "    border-bottom-color: var(--fill-color);\n",
              "    animation:\n",
              "      spin 1s steps(1) infinite;\n",
              "  }\n",
              "\n",
              "  @keyframes spin {\n",
              "    0% {\n",
              "      border-color: transparent;\n",
              "      border-bottom-color: var(--fill-color);\n",
              "      border-left-color: var(--fill-color);\n",
              "    }\n",
              "    20% {\n",
              "      border-color: transparent;\n",
              "      border-left-color: var(--fill-color);\n",
              "      border-top-color: var(--fill-color);\n",
              "    }\n",
              "    30% {\n",
              "      border-color: transparent;\n",
              "      border-left-color: var(--fill-color);\n",
              "      border-top-color: var(--fill-color);\n",
              "      border-right-color: var(--fill-color);\n",
              "    }\n",
              "    40% {\n",
              "      border-color: transparent;\n",
              "      border-right-color: var(--fill-color);\n",
              "      border-top-color: var(--fill-color);\n",
              "    }\n",
              "    60% {\n",
              "      border-color: transparent;\n",
              "      border-right-color: var(--fill-color);\n",
              "    }\n",
              "    80% {\n",
              "      border-color: transparent;\n",
              "      border-right-color: var(--fill-color);\n",
              "      border-bottom-color: var(--fill-color);\n",
              "    }\n",
              "    90% {\n",
              "      border-color: transparent;\n",
              "      border-bottom-color: var(--fill-color);\n",
              "    }\n",
              "  }\n",
              "</style>\n",
              "\n",
              "  <script>\n",
              "    async function quickchart(key) {\n",
              "      const quickchartButtonEl =\n",
              "        document.querySelector('#' + key + ' button');\n",
              "      quickchartButtonEl.disabled = true;  // To prevent multiple clicks.\n",
              "      quickchartButtonEl.classList.add('colab-df-spinner');\n",
              "      try {\n",
              "        const charts = await google.colab.kernel.invokeFunction(\n",
              "            'suggestCharts', [key], {});\n",
              "      } catch (error) {\n",
              "        console.error('Error during call to suggestCharts:', error);\n",
              "      }\n",
              "      quickchartButtonEl.classList.remove('colab-df-spinner');\n",
              "      quickchartButtonEl.classList.add('colab-df-quickchart-complete');\n",
              "    }\n",
              "    (() => {\n",
              "      let quickchartButtonEl =\n",
              "        document.querySelector('#df-51151305-b864-4f5a-8b13-26bda0e5e1ab button');\n",
              "      quickchartButtonEl.style.display =\n",
              "        google.colab.kernel.accessAllowed ? 'block' : 'none';\n",
              "    })();\n",
              "  </script>\n",
              "</div>\n",
              "    </div>\n",
              "  </div>\n"
            ],
            "application/vnd.google.colaboratory.intrinsic+json": {
              "type": "dataframe",
              "variable_name": "encoded_df",
              "summary": "{\n  \"name\": \"encoded_df\",\n  \"rows\": 61,\n  \"fields\": [\n    {\n      \"column\": \"Age\",\n      \"properties\": {\n        \"dtype\": \"number\",\n        \"std\": 15.991220268730594,\n        \"min\": 18.0,\n        \"max\": 77.0,\n        \"num_unique_values\": 37,\n        \"samples\": [\n          73.0,\n          39.0,\n          68.0\n        ],\n        \"semantic_type\": \"\",\n        \"description\": \"\"\n      }\n    },\n    {\n      \"column\": \"Smokes\",\n      \"properties\": {\n        \"dtype\": \"number\",\n        \"std\": 7.8504115655571765,\n        \"min\": 0.0,\n        \"max\": 34.0,\n        \"num_unique_values\": 16,\n        \"samples\": [\n          3.0,\n          20.0,\n          12.0\n        ],\n        \"semantic_type\": \"\",\n        \"description\": \"\"\n      }\n    },\n    {\n      \"column\": \"AreaQ\",\n      \"properties\": {\n        \"dtype\": \"number\",\n        \"std\": 2,\n        \"min\": 1,\n        \"max\": 10,\n        \"num_unique_values\": 10,\n        \"samples\": [\n          1,\n          2,\n          4\n        ],\n        \"semantic_type\": \"\",\n        \"description\": \"\"\n      }\n    },\n    {\n      \"column\": \"Alkhol\",\n      \"properties\": {\n        \"dtype\": \"number\",\n        \"std\": 2.3408932954675716,\n        \"min\": 0.0,\n        \"max\": 8.0,\n        \"num_unique_values\": 9,\n        \"samples\": [\n          8.0,\n          5.0,\n          0.0\n        ],\n        \"semantic_type\": \"\",\n        \"description\": \"\"\n      }\n    },\n    {\n      \"column\": \"Result\",\n      \"properties\": {\n        \"dtype\": \"number\",\n        \"std\": 0,\n        \"min\": 0,\n        \"max\": 1,\n        \"num_unique_values\": 2,\n        \"samples\": [\n          0,\n          1\n        ],\n        \"semantic_type\": \"\",\n        \"description\": \"\"\n      }\n    },\n    {\n      \"column\": \"Age_Bins_20-29\",\n      \"properties\": {\n        \"dtype\": \"boolean\",\n        \"num_unique_values\": 2,\n        \"samples\": [\n          true,\n          false\n        ],\n        \"semantic_type\": \"\",\n        \"description\": \"\"\n      }\n    },\n    {\n      \"column\": \"Age_Bins_30-39\",\n      \"properties\": {\n        \"dtype\": \"boolean\",\n        \"num_unique_values\": 2,\n        \"samples\": [\n          false,\n          true\n        ],\n        \"semantic_type\": \"\",\n        \"description\": \"\"\n      }\n    },\n    {\n      \"column\": \"Age_Bins_40-49\",\n      \"properties\": {\n        \"dtype\": \"boolean\",\n        \"num_unique_values\": 2,\n        \"samples\": [\n          true,\n          false\n        ],\n        \"semantic_type\": \"\",\n        \"description\": \"\"\n      }\n    },\n    {\n      \"column\": \"Age_Bins_50-59\",\n      \"properties\": {\n        \"dtype\": \"boolean\",\n        \"num_unique_values\": 2,\n        \"samples\": [\n          true,\n          false\n        ],\n        \"semantic_type\": \"\",\n        \"description\": \"\"\n      }\n    },\n    {\n      \"column\": \"Age_Bins_60-69\",\n      \"properties\": {\n        \"dtype\": \"boolean\",\n        \"num_unique_values\": 2,\n        \"samples\": [\n          true,\n          false\n        ],\n        \"semantic_type\": \"\",\n        \"description\": \"\"\n      }\n    },\n    {\n      \"column\": \"Age_Bins_70-79\",\n      \"properties\": {\n        \"dtype\": \"boolean\",\n        \"num_unique_values\": 2,\n        \"samples\": [\n          true,\n          false\n        ],\n        \"semantic_type\": \"\",\n        \"description\": \"\"\n      }\n    },\n    {\n      \"column\": \"Age_Bins_80-89\",\n      \"properties\": {\n        \"dtype\": \"boolean\",\n        \"num_unique_values\": 1,\n        \"samples\": [\n          false\n        ],\n        \"semantic_type\": \"\",\n        \"description\": \"\"\n      }\n    },\n    {\n      \"column\": \"Age_Bins_90-100\",\n      \"properties\": {\n        \"dtype\": \"boolean\",\n        \"num_unique_values\": 1,\n        \"samples\": [\n          false\n        ],\n        \"semantic_type\": \"\",\n        \"description\": \"\"\n      }\n    }\n  ]\n}"
            }
          },
          "metadata": {},
          "execution_count": 76
        }
      ]
    },
    {
      "cell_type": "markdown",
      "source": [
        "#### 5.3 Standarization"
      ],
      "metadata": {
        "id": "MIR8NmKwPVoi"
      }
    },
    {
      "cell_type": "code",
      "source": [
        "# Splitting data\n",
        "# Splitting data before doing standarization\n",
        "X = encoded_df.drop(\"Result\", axis = 1)\n",
        "y = encoded_df[\"Result\"]\n",
        "\n",
        "x_train, x_test, y_train, y_test = train_test_split(X,y,test_size =0.2,random_state=2)"
      ],
      "metadata": {
        "id": "bHlMsMlcFhYH"
      },
      "execution_count": 77,
      "outputs": []
    },
    {
      "cell_type": "code",
      "source": [
        "# Applying Standarization\n",
        "scaler = StandardScaler()\n",
        "x_train_std = scaler.fit_transform(x_train)\n",
        "x_test_std = scaler.transform(x_test)"
      ],
      "metadata": {
        "id": "SUbHgkJ7F9Qd"
      },
      "execution_count": 78,
      "outputs": []
    },
    {
      "cell_type": "code",
      "source": [
        "# Displaying Standarized training data\n",
        "x_train_std"
      ],
      "metadata": {
        "colab": {
          "base_uri": "https://localhost:8080/"
        },
        "id": "fjDxjhHbGTHq",
        "outputId": "37d2c666-425c-4e10-8868-7a34f0338369"
      },
      "execution_count": 79,
      "outputs": [
        {
          "output_type": "execute_result",
          "data": {
            "text/plain": [
              "array([[-0.52872506, -0.39013376,  1.1303747 , -1.31666805, -0.51298918,\n",
              "         1.64082531, -0.37796447, -0.41319694, -0.41319694, -0.25819889,\n",
              "         0.        ,  0.        ],\n",
              "       [ 0.57204229,  0.33475993, -0.57853823,  0.7486936 , -0.51298918,\n",
              "        -0.6094494 , -0.37796447,  2.42015348, -0.41319694, -0.25819889,\n",
              "         0.        ,  0.        ],\n",
              "       [-0.5898788 , -1.35665868,  1.1303747 , -1.31666805, -0.51298918,\n",
              "         1.64082531, -0.37796447, -0.41319694, -0.41319694, -0.25819889,\n",
              "         0.        ,  0.        ],\n",
              "       [-0.89564751,  0.57639117, -1.4329947 ,  1.98791058,  1.94935887,\n",
              "        -0.6094494 , -0.37796447, -0.41319694, -0.41319694, -0.25819889,\n",
              "         0.        ,  0.        ],\n",
              "       [ 0.02165862,  1.78454732, -1.00576647,  1.98791058, -0.51298918,\n",
              "        -0.6094494 ,  2.64575131, -0.41319694, -0.41319694, -0.25819889,\n",
              "         0.        ,  0.        ],\n",
              "       [-0.16180261,  0.57639117, -1.4329947 ,  1.57483826, -0.51298918,\n",
              "        -0.6094494 ,  2.64575131, -0.41319694, -0.41319694, -0.25819889,\n",
              "         0.        ,  0.        ],\n",
              "       [ 0.08281236,  1.78454732, -1.86022294,  1.16176593, -0.51298918,\n",
              "        -0.6094494 ,  2.64575131, -0.41319694, -0.41319694, -0.25819889,\n",
              "         0.        ,  0.        ],\n",
              "       [-1.44603118, -0.39013376,  1.1303747 , -1.31666805, -0.51298918,\n",
              "        -0.6094494 , -0.37796447, -0.41319694, -0.41319694, -0.25819889,\n",
              "         0.        ,  0.        ],\n",
              "       [-0.40641758, -0.02768691,  0.70314647, -0.07745106, -0.51298918,\n",
              "         1.64082531, -0.37796447, -0.41319694, -0.41319694, -0.25819889,\n",
              "         0.        ,  0.        ],\n",
              "       [ 1.6116559 ,  0.57639117, -0.15131   ,  0.33562127, -0.51298918,\n",
              "        -0.6094494 , -0.37796447, -0.41319694,  2.42015348, -0.25819889,\n",
              "         0.        ,  0.        ],\n",
              "       [-1.01795499, -0.26931814,  0.27591823, -0.90359572,  1.94935887,\n",
              "        -0.6094494 , -0.37796447, -0.41319694, -0.41319694, -0.25819889,\n",
              "         0.        ,  0.        ],\n",
              "       [-1.07910873, -1.59828992, -0.15131   , -0.90359572,  1.94935887,\n",
              "        -0.6094494 , -0.37796447, -0.41319694, -0.41319694, -0.25819889,\n",
              "         0.        ,  0.        ],\n",
              "       [-0.52872506,  1.18046924, -0.57853823,  1.98791058, -0.51298918,\n",
              "         1.64082531, -0.37796447, -0.41319694, -0.41319694, -0.25819889,\n",
              "         0.        ,  0.        ],\n",
              "       [ 2.10088584,  0.57639117, -0.15131   ,  0.33562127, -0.51298918,\n",
              "        -0.6094494 , -0.37796447, -0.41319694, -0.41319694,  3.87298335,\n",
              "         0.        ,  0.        ],\n",
              "       [-0.03949512,  0.8180224 , -1.00576647,  0.7486936 , -0.51298918,\n",
              "        -0.6094494 ,  2.64575131, -0.41319694, -0.41319694, -0.25819889,\n",
              "         0.        ,  0.        ],\n",
              "       [-0.77334003, -1.83992115, -0.15131   , -0.49052339, -0.51298918,\n",
              "         1.64082531, -0.37796447, -0.41319694, -0.41319694, -0.25819889,\n",
              "         0.        ,  0.        ],\n",
              "       [-1.3237237 ,  0.57639117, -0.15131   , -0.07745106,  1.94935887,\n",
              "        -0.6094494 , -0.37796447, -0.41319694, -0.41319694, -0.25819889,\n",
              "         0.        ,  0.        ],\n",
              "       [ 1.85627087, -0.63176499,  0.70314647,  1.16176593, -0.51298918,\n",
              "        -0.6094494 , -0.37796447, -0.41319694, -0.41319694,  3.87298335,\n",
              "         0.        ,  0.        ],\n",
              "       [ 0.51088855,  1.18046924,  1.55760294, -1.31666805, -0.51298918,\n",
              "        -0.6094494 , -0.37796447,  2.42015348, -0.41319694, -0.25819889,\n",
              "         0.        ,  0.        ],\n",
              "       [ 0.93896474, -0.02768691,  1.98483117, -1.31666805, -0.51298918,\n",
              "        -0.6094494 , -0.37796447,  2.42015348, -0.41319694, -0.25819889,\n",
              "         0.        ,  0.        ],\n",
              "       [ 0.26627358, -0.39013376,  1.1303747 , -1.31666805, -0.51298918,\n",
              "        -0.6094494 ,  2.64575131, -0.41319694, -0.41319694, -0.25819889,\n",
              "         0.        ,  0.        ],\n",
              "       [ 2.10088584, -1.4774743 , -1.4329947 ,  1.16176593, -0.51298918,\n",
              "        -0.6094494 , -0.37796447, -0.41319694, -0.41319694,  3.87298335,\n",
              "         0.        ,  0.        ],\n",
              "       [-0.52872506, -1.83992115,  1.98483117, -1.31666805, -0.51298918,\n",
              "         1.64082531, -0.37796447, -0.41319694, -0.41319694, -0.25819889,\n",
              "         0.        ,  0.        ],\n",
              "       [-1.01795499,  2.26780979, -1.86022294,  1.98791058,  1.94935887,\n",
              "        -0.6094494 , -0.37796447, -0.41319694, -0.41319694, -0.25819889,\n",
              "         0.        ,  0.        ],\n",
              "       [ 1.18357971,  1.18046924, -1.00576647,  0.33562127, -0.51298918,\n",
              "        -0.6094494 , -0.37796447, -0.41319694,  2.42015348, -0.25819889,\n",
              "         0.        ,  0.        ],\n",
              "       [ 1.55050216, -1.35665868, -0.15131   ,  1.16176593, -0.51298918,\n",
              "        -0.6094494 , -0.37796447, -0.41319694,  2.42015348, -0.25819889,\n",
              "         0.        ,  0.        ],\n",
              "       [-0.5898788 ,  1.18046924,  1.1303747 , -0.49052339, -0.51298918,\n",
              "         1.64082531, -0.37796447, -0.41319694, -0.41319694, -0.25819889,\n",
              "         0.        ,  0.        ],\n",
              "       [-0.89564751, -1.83992115,  1.1303747 , -0.90359572,  1.94935887,\n",
              "        -0.6094494 , -0.37796447, -0.41319694, -0.41319694, -0.25819889,\n",
              "         0.        ,  0.        ],\n",
              "       [-0.34526383, -0.63176499, -0.15131   , -0.07745106, -0.51298918,\n",
              "         1.64082531, -0.37796447, -0.41319694, -0.41319694, -0.25819889,\n",
              "         0.        ,  0.        ],\n",
              "       [ 1.18357971, -0.02768691, -0.15131   ,  0.7486936 , -0.51298918,\n",
              "        -0.6094494 , -0.37796447, -0.41319694,  2.42015348, -0.25819889,\n",
              "         0.        ,  0.        ],\n",
              "       [ 0.75550352, -0.02768691, -1.86022294, -0.07745106, -0.51298918,\n",
              "        -0.6094494 , -0.37796447,  2.42015348, -0.41319694, -0.25819889,\n",
              "         0.        ,  0.        ],\n",
              "       [-0.34526383, -0.02768691,  0.27591823, -0.49052339, -0.51298918,\n",
              "         1.64082531, -0.37796447, -0.41319694, -0.41319694, -0.25819889,\n",
              "         0.        ,  0.        ],\n",
              "       [ 0.63319603,  0.57639117,  0.27591823, -0.07745106, -0.51298918,\n",
              "        -0.6094494 , -0.37796447,  2.42015348, -0.41319694, -0.25819889,\n",
              "         0.        ,  0.        ],\n",
              "       [-0.5898788 , -0.87339622,  1.1303747 , -0.90359572, -0.51298918,\n",
              "         1.64082531, -0.37796447, -0.41319694, -0.41319694, -0.25819889,\n",
              "         0.        ,  0.        ],\n",
              "       [-0.46757132,  0.57639117, -0.15131   , -0.90359572, -0.51298918,\n",
              "         1.64082531, -0.37796447, -0.41319694, -0.41319694, -0.25819889,\n",
              "         0.        ,  0.        ],\n",
              "       [ 0.81665726,  0.57639117, -1.00576647, -0.07745106, -0.51298918,\n",
              "        -0.6094494 , -0.37796447,  2.42015348, -0.41319694, -0.25819889,\n",
              "         0.        ,  0.        ],\n",
              "       [ 1.18357971,  0.57639117, -0.15131   ,  1.16176593, -0.51298918,\n",
              "        -0.6094494 , -0.37796447, -0.41319694,  2.42015348, -0.25819889,\n",
              "         0.        ,  0.        ],\n",
              "       [-1.01795499, -0.63176499,  0.70314647, -0.49052339,  1.94935887,\n",
              "        -0.6094494 , -0.37796447, -0.41319694, -0.41319694, -0.25819889,\n",
              "         0.        ,  0.        ],\n",
              "       [-1.26256996, -0.39013376, -0.15131   , -0.49052339,  1.94935887,\n",
              "        -0.6094494 , -0.37796447, -0.41319694, -0.41319694, -0.25819889,\n",
              "         0.        ,  0.        ],\n",
              "       [-0.22295635, -0.02768691, -0.15131   , -0.07745106, -0.51298918,\n",
              "         1.64082531, -0.37796447, -0.41319694, -0.41319694, -0.25819889,\n",
              "         0.        ,  0.        ],\n",
              "       [-1.50718493, -0.63176499,  0.27591823, -0.07745106, -0.51298918,\n",
              "        -0.6094494 , -0.37796447, -0.41319694, -0.41319694, -0.25819889,\n",
              "         0.        ,  0.        ],\n",
              "       [ 1.18357971, -1.23584307, -0.57853823, -0.07745106, -0.51298918,\n",
              "        -0.6094494 , -0.37796447, -0.41319694,  2.42015348, -0.25819889,\n",
              "         0.        ,  0.        ],\n",
              "       [ 1.24473345,  0.57639117, -0.57853823,  0.7486936 , -0.51298918,\n",
              "        -0.6094494 , -0.37796447, -0.41319694,  2.42015348, -0.25819889,\n",
              "         0.        ,  0.        ],\n",
              "       [-1.26256996,  0.57639117,  0.27591823, -0.49052339,  1.94935887,\n",
              "        -0.6094494 , -0.37796447, -0.41319694, -0.41319694, -0.25819889,\n",
              "         0.        ,  0.        ],\n",
              "       [ 0.1439661 , -1.59828992,  0.27591823, -1.31666805, -0.51298918,\n",
              "        -0.6094494 ,  2.64575131, -0.41319694, -0.41319694, -0.25819889,\n",
              "         0.        ,  0.        ],\n",
              "       [-1.3237237 ,  0.57639117,  1.1303747 , -0.07745106,  1.94935887,\n",
              "        -0.6094494 , -0.37796447, -0.41319694, -0.41319694, -0.25819889,\n",
              "         0.        ,  0.        ],\n",
              "       [-0.22295635,  0.33475993,  1.1303747 , -0.90359572, -0.51298918,\n",
              "         1.64082531, -0.37796447, -0.41319694, -0.41319694, -0.25819889,\n",
              "         0.        ,  0.        ],\n",
              "       [ 0.44973481,  0.57639117, -1.4329947 ,  0.33562127, -0.51298918,\n",
              "        -0.6094494 , -0.37796447,  2.42015348, -0.41319694, -0.25819889,\n",
              "         0.        ,  0.        ]])"
            ]
          },
          "metadata": {},
          "execution_count": 79
        }
      ]
    },
    {
      "cell_type": "code",
      "source": [
        "# Displaying Standarized test data\n",
        "x_test_std"
      ],
      "metadata": {
        "colab": {
          "base_uri": "https://localhost:8080/"
        },
        "id": "Oe_eygb0GjEl",
        "outputId": "9f758ccc-dc15-4860-df12-69c116775c73"
      },
      "execution_count": 80,
      "outputs": [
        {
          "output_type": "execute_result",
          "data": {
            "text/plain": [
              "array([[ 1.00011848,  0.57639117, -1.00576647,  0.33562127, -0.51298918,\n",
              "        -0.6094494 , -0.37796447,  2.42015348, -0.41319694, -0.25819889,\n",
              "         0.        ,  0.        ],\n",
              "       [-0.46757132, -1.4774743 , -0.15131   ,  0.33562127, -0.51298918,\n",
              "         1.64082531, -0.37796447, -0.41319694, -0.41319694, -0.25819889,\n",
              "         0.        ,  0.        ],\n",
              "       [-0.89564751, -0.63176499, -0.57853823, -0.90359572,  1.94935887,\n",
              "        -0.6094494 , -0.37796447, -0.41319694, -0.41319694, -0.25819889,\n",
              "         0.        ,  0.        ],\n",
              "       [ 1.97857835, -0.02768691, -1.00576647,  0.7486936 , -0.51298918,\n",
              "        -0.6094494 , -0.37796447, -0.41319694, -0.41319694,  3.87298335,\n",
              "         0.        ,  0.        ],\n",
              "       [ 0.08281236, -1.23584307,  1.1303747 , -0.90359572, -0.51298918,\n",
              "        -0.6094494 ,  2.64575131, -0.41319694, -0.41319694, -0.25819889,\n",
              "         0.        ,  0.        ],\n",
              "       [-0.71218628,  0.57639117,  1.55760294,  0.33562127, -0.51298918,\n",
              "         1.64082531, -0.37796447, -0.41319694, -0.41319694, -0.25819889,\n",
              "         0.        ,  0.        ],\n",
              "       [-1.07910873,  0.57639117,  1.1303747 , -0.49052339,  1.94935887,\n",
              "        -0.6094494 , -0.37796447, -0.41319694, -0.41319694, -0.25819889,\n",
              "         0.        ,  0.        ],\n",
              "       [ 0.75550352,  0.57639117, -1.86022294,  0.33562127, -0.51298918,\n",
              "        -0.6094494 , -0.37796447,  2.42015348, -0.41319694, -0.25819889,\n",
              "         0.        ,  0.        ],\n",
              "       [-0.03949512, -0.39013376,  0.27591823, -0.49052339, -0.51298918,\n",
              "        -0.6094494 ,  2.64575131, -0.41319694, -0.41319694, -0.25819889,\n",
              "         0.        ,  0.        ],\n",
              "       [ 0.26627358, -0.02768691, -1.86022294,  1.98791058, -0.51298918,\n",
              "        -0.6094494 ,  2.64575131, -0.41319694, -0.41319694, -0.25819889,\n",
              "         0.        ,  0.        ],\n",
              "       [-0.95680125,  0.57639117, -1.4329947 ,  0.7486936 ,  1.94935887,\n",
              "        -0.6094494 , -0.37796447, -0.41319694, -0.41319694, -0.25819889,\n",
              "         0.        ,  0.        ],\n",
              "       [-0.40641758, -0.26931814, -0.15131   , -0.49052339, -0.51298918,\n",
              "         1.64082531, -0.37796447, -0.41319694, -0.41319694, -0.25819889,\n",
              "         0.        ,  0.        ],\n",
              "       [-0.22295635, -0.02768691,  0.70314647, -0.49052339, -0.51298918,\n",
              "         1.64082531, -0.37796447, -0.41319694, -0.41319694, -0.25819889,\n",
              "         0.        ,  0.        ]])"
            ]
          },
          "metadata": {},
          "execution_count": 80
        }
      ]
    },
    {
      "cell_type": "markdown",
      "source": [
        "# 6. Model Building"
      ],
      "metadata": {
        "id": "0ZgNhatbPkcb"
      }
    },
    {
      "cell_type": "code",
      "source": [
        "# Training Logistic Regression Model\n",
        "logistic_regression = LogisticRegression()\n",
        "logistic_regression.fit(x_train_std,y_train)\n",
        "logistic_regression_predictions = logistic_regression.predict(x_test_std)\n",
        "\n"
      ],
      "metadata": {
        "id": "JvYzhsjXK8uS"
      },
      "execution_count": 81,
      "outputs": []
    },
    {
      "cell_type": "code",
      "source": [
        "# Training Decision Tree Model\n",
        "dt_model = DecisionTreeClassifier()\n",
        "dt_model.fit(x_train_std, y_train)\n",
        "dt_predictions = dt_model.predict(x_test_std)"
      ],
      "metadata": {
        "id": "zh6HhBxaPzQ1"
      },
      "execution_count": 82,
      "outputs": []
    },
    {
      "cell_type": "code",
      "source": [
        "# Training Random Forest Model\n",
        "rf_model = RandomForestClassifier()\n",
        "rf_model.fit(x_train_std, y_train)\n",
        "rf_predictions = rf_model.predict(x_test_std)"
      ],
      "metadata": {
        "id": "1vfmKXqBVlhH"
      },
      "execution_count": 83,
      "outputs": []
    },
    {
      "cell_type": "code",
      "source": [
        "# Training Support Vector Machine model\n",
        "svm_model = SVC()\n",
        "svm_model.fit(x_train_std, y_train)\n",
        "svm_predictions = svm_model.predict(x_test_std)"
      ],
      "metadata": {
        "id": "HA-S4QVtVoDn"
      },
      "execution_count": 84,
      "outputs": []
    },
    {
      "cell_type": "markdown",
      "source": [
        "# 7. Model Evaluation"
      ],
      "metadata": {
        "id": "bbUMZ36vWHSn"
      }
    },
    {
      "cell_type": "markdown",
      "source": [
        "#### 7.1 Calculating accuracy of our models"
      ],
      "metadata": {
        "id": "TPArghUGYjXd"
      }
    },
    {
      "cell_type": "code",
      "source": [
        "# Calculating accuracy for Logistic Regression\n",
        "lr_accuracy = accuracy_score(y_test, logistic_regression_predictions)\n",
        "print(\"Logisitc Regression Accuracy:\", lr_accuracy*100)\n",
        "\n",
        "# Calculating accuracy for Decision Tree\n",
        "dt_accuracy = accuracy_score(y_test, dt_predictions)\n",
        "print(\"Decision Tree Accuracy:\", dt_accuracy*100)\n",
        "\n",
        "# Calculating accuracy for Random Forest\n",
        "rf_accuracy = accuracy_score(y_test, rf_predictions)\n",
        "print(\"Random Forest Accuracy:\", rf_accuracy*100)\n",
        "\n",
        "# Calculating accuracy for Support Vector Machine\n",
        "svm_accuracy = accuracy_score(y_test, svm_predictions)\n",
        "print(\"Support Vector Machine Accuracy:\", svm_accuracy*100)"
      ],
      "metadata": {
        "colab": {
          "base_uri": "https://localhost:8080/"
        },
        "id": "WtGqrZ5qV3Pp",
        "outputId": "52372b76-981b-4c14-e37f-3270ab212047"
      },
      "execution_count": 85,
      "outputs": [
        {
          "output_type": "stream",
          "name": "stdout",
          "text": [
            "Logisitc Regression Accuracy: 92.3076923076923\n",
            "Decision Tree Accuracy: 92.3076923076923\n",
            "Random Forest Accuracy: 92.3076923076923\n",
            "Support Vector Machine Accuracy: 92.3076923076923\n"
          ]
        }
      ]
    },
    {
      "cell_type": "markdown",
      "source": [
        "#### Observation : We are getting high accuracy for all four of our machine learning models."
      ],
      "metadata": {
        "id": "_C-7VWCSW3ZJ"
      }
    },
    {
      "cell_type": "markdown",
      "source": [
        "7.2 Calculating Precision, R2 score and F1 score"
      ],
      "metadata": {
        "id": "qyIpbxPyXi81"
      }
    },
    {
      "cell_type": "code",
      "source": [
        "# Calculating precision, recall, and F1 score for Logistic Regression\n",
        "lr_precision = precision_score(y_test, logistic_regression_predictions)\n",
        "lr_recall = recall_score(y_test, logistic_regression_predictions)\n",
        "lr_f1_score = f1_score(y_test, logistic_regression_predictions)\n",
        "\n",
        "print(\"Decision Tree Precision:\", lr_precision)\n",
        "print(\"Decision Tree Recall:\", lr_recall)\n",
        "print(\"Decision Tree F1 Score:\", lr_f1_score)\n",
        "\n",
        "\n",
        "# Calculating precision, recall, and F1 score for Decision Tree\n",
        "dt_precision = precision_score(y_test, dt_predictions)\n",
        "dt_recall = recall_score(y_test, dt_predictions)\n",
        "dt_f1_score = f1_score(y_test, dt_predictions)\n",
        "\n",
        "print(\"Decision Tree Precision:\", dt_precision)\n",
        "print(\"Decision Tree Recall:\", dt_recall)\n",
        "print(\"Decision Tree F1 Score:\", dt_f1_score)\n",
        "\n",
        "# Calculating precision, recall, and F1 score for Random Forest\n",
        "rf_precision = precision_score(y_test, rf_predictions)\n",
        "rf_recall = recall_score(y_test, rf_predictions)\n",
        "rf_f1_score = f1_score(y_test, rf_predictions)\n",
        "\n",
        "print(\"Random Forest Precision:\", rf_precision)\n",
        "print(\"Random Forest Recall:\", rf_recall)\n",
        "print(\"Random Forest F1 Score:\", rf_f1_score)\n",
        "\n",
        "# Calculating precision, recall, and F1 score for Support Vector Machine\n",
        "svm_precision = precision_score(y_test, svm_predictions)\n",
        "svm_recall = recall_score(y_test, svm_predictions)\n",
        "svm_f1_score = f1_score(y_test, svm_predictions)\n",
        "\n",
        "print(\"Support Vector Machine Precision:\", svm_precision)\n",
        "print(\"Support Vector Machine Recall:\", svm_recall)\n",
        "print(\"Support Vector Machine F1 Score:\", svm_f1_score)\n"
      ],
      "metadata": {
        "colab": {
          "base_uri": "https://localhost:8080/"
        },
        "id": "mhHS6G_IWRQV",
        "outputId": "8b97d8a9-e52d-41a2-d009-2cb69407503a"
      },
      "execution_count": 86,
      "outputs": [
        {
          "output_type": "stream",
          "name": "stdout",
          "text": [
            "Decision Tree Precision: 1.0\n",
            "Decision Tree Recall: 0.8333333333333334\n",
            "Decision Tree F1 Score: 0.9090909090909091\n",
            "Decision Tree Precision: 0.8571428571428571\n",
            "Decision Tree Recall: 1.0\n",
            "Decision Tree F1 Score: 0.923076923076923\n",
            "Random Forest Precision: 1.0\n",
            "Random Forest Recall: 0.8333333333333334\n",
            "Random Forest F1 Score: 0.9090909090909091\n",
            "Support Vector Machine Precision: 1.0\n",
            "Support Vector Machine Recall: 0.8333333333333334\n",
            "Support Vector Machine F1 Score: 0.9090909090909091\n"
          ]
        }
      ]
    },
    {
      "cell_type": "markdown",
      "source": [
        "Observation : Precision, Recall and F1-score of all our four models is excellent"
      ],
      "metadata": {
        "id": "YgV0XwTIZDjn"
      }
    },
    {
      "cell_type": "markdown",
      "source": [
        "#### 7.3 Calculating confusion Matrix"
      ],
      "metadata": {
        "id": "HJLY0YBhY06k"
      }
    },
    {
      "cell_type": "code",
      "source": [
        "# Calculate confusion matrix for Logisitc Regression\n",
        "lr_conf_matrix = confusion_matrix(y_test, logistic_regression_predictions)\n",
        "print(\"Logisitc Regression Confusion Matrix:\")\n",
        "print(lr_conf_matrix)\n",
        "\n",
        "# Calculate confusion matrix for Decision Tree\n",
        "dt_conf_matrix = confusion_matrix(y_test, dt_predictions)\n",
        "print(\"Decision Tree Confusion Matrix:\")\n",
        "print(dt_conf_matrix)\n",
        "\n",
        "# Calculate confusion matrix for Random Forest\n",
        "rf_conf_matrix = confusion_matrix(y_test, rf_predictions)\n",
        "print(\"\\nRandom Forest Confusion Matrix:\")\n",
        "print(rf_conf_matrix)\n",
        "\n",
        "# Calculate confusion matrix for Support Vector Machine\n",
        "svm_conf_matrix = confusion_matrix(y_test, svm_predictions)\n",
        "print(\"\\nSupport Vector Machine Confusion Matrix:\")\n",
        "print(svm_conf_matrix)\n"
      ],
      "metadata": {
        "colab": {
          "base_uri": "https://localhost:8080/"
        },
        "id": "xgiU37pCXwZ8",
        "outputId": "b8e8d774-006f-4575-dbf9-3908c2adcd1a"
      },
      "execution_count": 87,
      "outputs": [
        {
          "output_type": "stream",
          "name": "stdout",
          "text": [
            "Logisitc Regression Confusion Matrix:\n",
            "[[7 0]\n",
            " [1 5]]\n",
            "Decision Tree Confusion Matrix:\n",
            "[[6 1]\n",
            " [0 6]]\n",
            "\n",
            "Random Forest Confusion Matrix:\n",
            "[[7 0]\n",
            " [1 5]]\n",
            "\n",
            "Support Vector Machine Confusion Matrix:\n",
            "[[7 0]\n",
            " [1 5]]\n"
          ]
        }
      ]
    },
    {
      "cell_type": "markdown",
      "source": [
        "Observation : Our confusion matrix is working well"
      ],
      "metadata": {
        "id": "bo-oXwrAZyRj"
      }
    },
    {
      "cell_type": "code",
      "source": [
        "# Combine actual and predicted values for Logistic Regression\n",
        "lr_results = pd.DataFrame({'Actual': y_test, 'Predicted': logistic_regression_predictions})\n",
        "print(\"Logisitc Regression Actual vs Predicted:\")\n",
        "print(tabulate(lr_results, headers='keys', tablefmt='psql'))\n",
        "\n",
        "# Combine actual and predicted values for Decision Tree\n",
        "dt_results = pd.DataFrame({'Actual': y_test, 'Predicted': dt_predictions})\n",
        "print(\"Decision Tree Actual vs Predicted:\")\n",
        "print(tabulate(dt_results, headers='keys', tablefmt='psql'))\n",
        "\n",
        "# Combine actual and predicted values for Random Forest\n",
        "rf_results = pd.DataFrame({'Actual': y_test, 'Predicted': rf_predictions})\n",
        "print(\"\\nRandom Forest Actual vs Predicted:\")\n",
        "print(tabulate(rf_results, headers='keys', tablefmt='psql'))\n",
        "\n",
        "# Combine actual and predicted values for Support Vector Machine\n",
        "svm_results = pd.DataFrame({'Actual': y_test, 'Predicted': svm_predictions})\n",
        "print(\"\\nSupport Vector Machine Actual vs Predicted:\")\n",
        "print(tabulate(svm_results, headers='keys', tablefmt='psql'))"
      ],
      "metadata": {
        "colab": {
          "base_uri": "https://localhost:8080/"
        },
        "id": "OlpF9XOWZ4hn",
        "outputId": "e3383685-825d-47ff-cb3c-8d358d03901c"
      },
      "execution_count": 88,
      "outputs": [
        {
          "output_type": "stream",
          "name": "stdout",
          "text": [
            "Logisitc Regression Actual vs Predicted:\n",
            "+----+----------+-------------+\n",
            "|    |   Actual |   Predicted |\n",
            "|----+----------+-------------|\n",
            "| 36 |        1 |           1 |\n",
            "|  0 |        1 |           0 |\n",
            "| 47 |        0 |           0 |\n",
            "| 56 |        1 |           1 |\n",
            "| 23 |        0 |           0 |\n",
            "| 46 |        0 |           0 |\n",
            "| 35 |        0 |           0 |\n",
            "| 28 |        1 |           1 |\n",
            "| 50 |        0 |           0 |\n",
            "| 32 |        1 |           1 |\n",
            "|  1 |        1 |           1 |\n",
            "| 30 |        0 |           0 |\n",
            "| 44 |        0 |           0 |\n",
            "+----+----------+-------------+\n",
            "Decision Tree Actual vs Predicted:\n",
            "+----+----------+-------------+\n",
            "|    |   Actual |   Predicted |\n",
            "|----+----------+-------------|\n",
            "| 36 |        1 |           1 |\n",
            "|  0 |        1 |           1 |\n",
            "| 47 |        0 |           0 |\n",
            "| 56 |        1 |           1 |\n",
            "| 23 |        0 |           0 |\n",
            "| 46 |        0 |           1 |\n",
            "| 35 |        0 |           0 |\n",
            "| 28 |        1 |           1 |\n",
            "| 50 |        0 |           0 |\n",
            "| 32 |        1 |           1 |\n",
            "|  1 |        1 |           1 |\n",
            "| 30 |        0 |           0 |\n",
            "| 44 |        0 |           0 |\n",
            "+----+----------+-------------+\n",
            "\n",
            "Random Forest Actual vs Predicted:\n",
            "+----+----------+-------------+\n",
            "|    |   Actual |   Predicted |\n",
            "|----+----------+-------------|\n",
            "| 36 |        1 |           1 |\n",
            "|  0 |        1 |           0 |\n",
            "| 47 |        0 |           0 |\n",
            "| 56 |        1 |           1 |\n",
            "| 23 |        0 |           0 |\n",
            "| 46 |        0 |           0 |\n",
            "| 35 |        0 |           0 |\n",
            "| 28 |        1 |           1 |\n",
            "| 50 |        0 |           0 |\n",
            "| 32 |        1 |           1 |\n",
            "|  1 |        1 |           1 |\n",
            "| 30 |        0 |           0 |\n",
            "| 44 |        0 |           0 |\n",
            "+----+----------+-------------+\n",
            "\n",
            "Support Vector Machine Actual vs Predicted:\n",
            "+----+----------+-------------+\n",
            "|    |   Actual |   Predicted |\n",
            "|----+----------+-------------|\n",
            "| 36 |        1 |           1 |\n",
            "|  0 |        1 |           0 |\n",
            "| 47 |        0 |           0 |\n",
            "| 56 |        1 |           1 |\n",
            "| 23 |        0 |           0 |\n",
            "| 46 |        0 |           0 |\n",
            "| 35 |        0 |           0 |\n",
            "| 28 |        1 |           1 |\n",
            "| 50 |        0 |           0 |\n",
            "| 32 |        1 |           1 |\n",
            "|  1 |        1 |           1 |\n",
            "| 30 |        0 |           0 |\n",
            "| 44 |        0 |           0 |\n",
            "+----+----------+-------------+\n"
          ]
        }
      ]
    },
    {
      "cell_type": "markdown",
      "source": [
        "# 8. Conclusion\n",
        "\n",
        "#### 1. Lung cancer is caused among people who are above approximately 39 years old.\n",
        "\n",
        "#### 2. All the 4 models used provided high accuracy.\n"
      ],
      "metadata": {
        "id": "j-0tQFR4bOUC"
      }
    }
  ],
  "metadata": {
    "colab": {
      "name": "Welcome To Colab",
      "provenance": []
    },
    "kernelspec": {
      "display_name": "Python 3",
      "name": "python3"
    }
  },
  "nbformat": 4,
  "nbformat_minor": 0
}